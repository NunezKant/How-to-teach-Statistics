{
 "cells": [
  {
   "cell_type": "code",
   "execution_count": 3,
   "metadata": {},
   "outputs": [
    {
     "name": "stderr",
     "output_type": "stream",
     "text": [
      "-- Attaching packages --------------------------------------- tidyverse 1.2.1 --\n",
      "v ggplot2 2.2.1     v purrr   0.2.4\n",
      "v tibble  1.4.1     v dplyr   0.7.4\n",
      "v tidyr   0.7.2     v stringr 1.2.0\n",
      "v readr   1.1.1     v forcats 0.2.0\n",
      "-- Conflicts ------------------------------------------ tidyverse_conflicts() --\n",
      "x dplyr::filter() masks stats::filter()\n",
      "x dplyr::lag()    masks stats::lag()\n",
      "Loading required package: car\n",
      "\n",
      "Attaching package: 'car'\n",
      "\n",
      "The following object is masked from 'package:dplyr':\n",
      "\n",
      "    recode\n",
      "\n",
      "The following object is masked from 'package:purrr':\n",
      "\n",
      "    some\n",
      "\n",
      "Loading required package: lmtest\n",
      "Loading required package: zoo\n",
      "\n",
      "Attaching package: 'zoo'\n",
      "\n",
      "The following objects are masked from 'package:base':\n",
      "\n",
      "    as.Date, as.Date.numeric\n",
      "\n",
      "Loading required package: sandwich\n",
      "Loading required package: survival\n",
      "\n",
      "Attaching package: 'MASS'\n",
      "\n",
      "The following object is masked from 'package:dplyr':\n",
      "\n",
      "    select\n",
      "\n",
      "\n",
      "Attaching package: 'nlme'\n",
      "\n",
      "The following object is masked from 'package:dplyr':\n",
      "\n",
      "    collapse\n",
      "\n"
     ]
    }
   ],
   "source": [
    "library(tidyverse)\n",
    "library(AER)\n",
    "library(MASS)\n",
    "library(broom)\n",
    "library(nlme)\n",
    "library(gmodels)"
   ]
  },
  {
   "cell_type": "markdown",
   "metadata": {},
   "source": [
    "<H1><center> Modelos lineales: cómo aprender estadística </center></H1>\n",
    "\n",
    "<H3><center> Original de: Jonas Kristoffer Lindeløv </center></H3>\n",
    "<H3><center> Modificado y traducido por: Miguel Angel Núñez Ochoa </center></H3>\n",
    "\n",
    "\n",
    "![cover](https://prod-discovery.edx-cdn.org/media/course/image/2102f79d-9a44-41e9-9d92-884bec46dc65-89aac9d39cd1.small.jpg)\n",
    "\n",
    "\n",
    "<H1><center>¿ Quién de ustedes ya ha llevado alguna clase de estadística ?</center></H1>\n",
    "\n",
    "---\n",
    "---\n",
    "---\n",
    "\n",
    "Un problema común cuando nos enseñan matemáticas (sobretodo estadística) es que en muchas ocasiones, terminamos memorizando fórmulas muchas formulas y sustituyendo valores, sin razonar qué es lo que significan las matemáticas que estamos utilizando, por ejemplo ¿ Ustedes sabían que muchos test estadísticos son **regresiones lineales** ? , si la respuesta es no, pues en este taller vamos a visitar la teoría de la regresión lineal y a partir de ahí visitaremos varios test estadísticos desde el framework de las regresiones lineales.\n",
    "\n",
    "Entonces, en vez de hacerles aprender mil formulas, vamos a entender que que significa cada test, y al entender cada uno como un caso especial de la regresión lineal, será más fácil aprender los nombres de los casos específicos, que las  formulas.\n",
    "\n",
    "---\n",
    "---\n",
    "---\n",
    "\n",
    "<H1><center> REFRESHER:</center></H1>\n",
    "<H1><center>¿ Alguien reconoce las siguientes formulas ?</center></H1>\n",
    "\n",
    "$$\n",
    "\\frac{1}{n} \\cdot \\sum_{i=1}^n x_i\n",
    "$$\n",
    "\n",
    "$$\n",
    "\\frac{1}{n-1} \\cdot\\sum_{i=1}^n (x_i-\\mu)^2\n",
    "$$\n",
    "\n",
    "* ¿ Cuál es la intuición detrás de ellas ?\n",
    "\n",
    "---\n",
    "---\n",
    "---\n",
    "\n",
    "<H1><center>Regresión Lineal</center></H1>\n",
    "\n",
    "La idea general de la regresión lineal es que queremos capturar la relación entre una variable dependiente $Y$ con una o más variables explicatorias $X_1,X_2,...,X_n$\n",
    "\n",
    "Para comenzar con un ejemplo sencillo, consideraremos la relación entre calificaciones (Score) y la proporción promedio de alumnos por maestro (Student Teacher Ratio *STR*) de algunas escuelas ficticias (cuando en la regresión lineal solo existe una variable explicatoria, generalmente se le conoce como *regresión lineal simple*), dicha relación la queremos ajustar a una linea recta, formalmente:\n",
    "\n",
    "$$\n",
    "Y = a + b \\cdot X \n",
    "$$\n",
    "\n",
    "De tal modo que queremos generar el siguiente  modelo:\n",
    "\n",
    "$$\n",
    "Score \\sim \\beta_0 + \\beta_1 \\cdot STR + u_i\n",
    "$$"
   ]
  },
  {
   "cell_type": "code",
   "execution_count": 30,
   "metadata": {
    "tags": [
     "hide_input"
    ]
   },
   "outputs": [
    {
     "data": {
      "text/html": [
       "<table>\n",
       "<thead><tr><th scope=col>Score</th><th scope=col>STR</th></tr></thead>\n",
       "<tbody>\n",
       "\t<tr><td>680 </td><td>15.0</td></tr>\n",
       "\t<tr><td>640 </td><td>17.0</td></tr>\n",
       "\t<tr><td>670 </td><td>19.0</td></tr>\n",
       "\t<tr><td>660 </td><td>20.0</td></tr>\n",
       "\t<tr><td>630 </td><td>22.0</td></tr>\n",
       "\t<tr><td>660 </td><td>23.5</td></tr>\n",
       "</tbody>\n",
       "</table>\n"
      ],
      "text/latex": [
       "\\begin{tabular}{r|ll}\n",
       " Score & STR\\\\\n",
       "\\hline\n",
       "\t 680  & 15.0\\\\\n",
       "\t 640  & 17.0\\\\\n",
       "\t 670  & 19.0\\\\\n",
       "\t 660  & 20.0\\\\\n",
       "\t 630  & 22.0\\\\\n",
       "\t 660  & 23.5\\\\\n",
       "\\end{tabular}\n"
      ],
      "text/markdown": [
       "\n",
       "Score | STR | \n",
       "|---|---|---|---|---|---|\n",
       "| 680  | 15.0 | \n",
       "| 640  | 17.0 | \n",
       "| 670  | 19.0 | \n",
       "| 660  | 20.0 | \n",
       "| 630  | 22.0 | \n",
       "| 660  | 23.5 | \n",
       "\n",
       "\n"
      ],
      "text/plain": [
       "  Score STR \n",
       "1 680   15.0\n",
       "2 640   17.0\n",
       "3 670   19.0\n",
       "4 660   20.0\n",
       "5 630   22.0\n",
       "6 660   23.5"
      ]
     },
     "metadata": {},
     "output_type": "display_data"
    }
   ],
   "source": [
    "Score <- c(680, 640, 670, 660, 630, 660, 635) \n",
    "STR <- c(15, 17, 19, 20, 22, 23.5, 25)\n",
    "Schools <- data.frame( Score = Score,\n",
    "                      STR = STR)\n",
    "head(Schools)"
   ]
  },
  {
   "cell_type": "code",
   "execution_count": 20,
   "metadata": {},
   "outputs": [
    {
     "data": {},
     "metadata": {},
     "output_type": "display_data"
    },
    {
     "data": {
      "image/png": "[encoded data removed]",
      "text/plain": [
       "plot without title"
      ]
     },
     "metadata": {},
     "output_type": "display_data"
    }
   ],
   "source": [
    "options(repr.plot.width=8, repr.plot.height=4) # controla tamaño de plot \n",
    "ggplot(Schools, aes(y = Score, x = STR)) + geom_point() + geom_smooth(method = lm, se = F)"
   ]
  },
  {
   "cell_type": "markdown",
   "metadata": {},
   "source": [
    "Ahora lo haremos con datos reales de escuela de los distritos de california en EUA y veremos cómo estimar, dichos coeficientes para generar la recta:"
   ]
  },
  {
   "cell_type": "code",
   "execution_count": 30,
   "metadata": {},
   "outputs": [],
   "source": [
    "data(CASchools)"
   ]
  },
  {
   "cell_type": "code",
   "execution_count": 25,
   "metadata": {},
   "outputs": [],
   "source": [
    "# TODO:\n",
    "# Describir cuantas observaciones y cuantas variables tiene el Dataset\n",
    "# Calcular el STR y agregarlo al dataset STR = alumnos / profesores\n",
    "# Calcule el Score como el promedio de la calificación de lectura y matemáticas\n",
    "# Genere los histogramas tanto de Score como de STR. HINT : geom_hist()\n",
    "# Calcule la media y sd de Score y STR guardarla en una variable tipo avg_STR \n",
    "# o sd_STR y reportarla\n",
    "# Reportar la correlación entre Score y STR\n",
    "# Graficar la regresión lineal entre Score y STR HINT: acabamos de ver como"
   ]
  },
  {
   "cell_type": "code",
   "execution_count": 5,
   "metadata": {},
   "outputs": [
    {
     "data": {
      "text/html": [
       "<ol class=list-inline>\n",
       "\t<li>420</li>\n",
       "\t<li>14</li>\n",
       "</ol>\n"
      ],
      "text/latex": [
       "\\begin{enumerate*}\n",
       "\\item 420\n",
       "\\item 14\n",
       "\\end{enumerate*}\n"
      ],
      "text/markdown": [
       "1. 420\n",
       "2. 14\n",
       "\n",
       "\n"
      ],
      "text/plain": [
       "[1] 420  14"
      ]
     },
     "metadata": {},
     "output_type": "display_data"
    }
   ],
   "source": [
    "dim(CASchools)"
   ]
  },
  {
   "cell_type": "code",
   "execution_count": 31,
   "metadata": {},
   "outputs": [],
   "source": [
    "CASchools <- CASchools %>%\n",
    "    mutate(STR = students/teachers) %>%\n",
    "    mutate(Score = (read + math)/2)\n"
   ]
  },
  {
   "cell_type": "code",
   "execution_count": 12,
   "metadata": {},
   "outputs": [
    {
     "name": "stderr",
     "output_type": "stream",
     "text": [
      "`stat_bin()` using `bins = 30`. Pick better value with `binwidth`.\n"
     ]
    },
    {
     "data": {},
     "metadata": {},
     "output_type": "display_data"
    },
    {
     "data": {},
     "metadata": {},
     "output_type": "display_data"
    },
    {
     "data": {
      "image/png": "[encoded data removed]",
      "text/plain": [
       "plot without title"
      ]
     },
     "metadata": {},
     "output_type": "display_data"
    },
    {
     "data": {
      "image/png": "[encoded data removed]",
      "text/plain": [
       "plot without title"
      ]
     },
     "metadata": {},
     "output_type": "display_data"
    }
   ],
   "source": [
    "options(repr.plot.width=8, repr.plot.height=4)\n",
    "ggplot(CASchools, aes(Score)) + geom_histogram()\n",
    "ggplot(CASchools, aes(STR, fill = \"b\")) + geom_density()"
   ]
  },
  {
   "cell_type": "markdown",
   "metadata": {},
   "source": [
    "<H1><center> ESTIMADOR OLS </center></H1>\n",
    "\n",
    "El estimador de mínimos cuadrados ordinarios (OLS) trata de estimar los coeficientes $\\beta_0$ y $\\beta_1$ haciendo pasar la recta lo más *cerca* posible de todos los puntos, dicha distancia está medida por el cuadrado de los errores:\n",
    "\n",
    "$$\n",
    "\\sum^n_{i = 1} (Y_i - \\beta_0 - \\beta_1 X_i)^2\n",
    "$$\n",
    "\n",
    "Por lo tanto necesitamos encontrar $\\beta_0$ y $\\beta_1$ que:\n",
    "\n",
    "* Minimicen\n",
    "* Maximicen\n",
    "\n",
    "La función de arriba.\n",
    "\n",
    "---\n",
    "---\n",
    "---\n",
    "\n",
    "Dicha optimización tiene la siguiente solución cerrada (closed-form solution: buscar en wiki si tienen curiosidad):\n",
    "\n",
    "$$\n",
    "\\hat{\\beta_1}  = \\frac{ \\sum_{i = 1}^n (X_i - \\overline{X})(Y_i - \\overline{Y}) } { \\sum_{i=1}^n (X_i - \\overline{X})^2} \n",
    "$$\n",
    "\n",
    "$$\n",
    "\\hat{\\beta_0} =  \\overline{Y} - \\hat{\\beta_1} \\overline{X}\n",
    "$$\n",
    "---\n",
    "---\n",
    "---"
   ]
  },
  {
   "cell_type": "code",
   "execution_count": 14,
   "metadata": {},
   "outputs": [],
   "source": [
    "# TODO\n",
    "# Obtener con las formulas dadas B1 y B2 para la regresión Score ~ STR\n",
    "beta_1 <- sum((CASchools$STR - mean(CASchools$STR))*(CASchools$Score - mean(CASchools$Score))) / sum((CASchools$STR - mean(CASchools$STR))^2)\n",
    "beta_0 <- mean(CASchools$Score) - beta_1 * mean(CASchools$STR)"
   ]
  },
  {
   "cell_type": "code",
   "execution_count": 15,
   "metadata": {},
   "outputs": [
    {
     "data": {
      "text/html": [
       "-2.27980814014466"
      ],
      "text/latex": [
       "-2.27980814014466"
      ],
      "text/markdown": [
       "-2.27980814014466"
      ],
      "text/plain": [
       "[1] -2.279808"
      ]
     },
     "metadata": {},
     "output_type": "display_data"
    }
   ],
   "source": [
    "beta_1"
   ]
  },
  {
   "cell_type": "code",
   "execution_count": 16,
   "metadata": {},
   "outputs": [
    {
     "data": {
      "text/html": [
       "698.932949276993"
      ],
      "text/latex": [
       "698.932949276993"
      ],
      "text/markdown": [
       "698.932949276993"
      ],
      "text/plain": [
       "[1] 698.9329"
      ]
     },
     "metadata": {},
     "output_type": "display_data"
    }
   ],
   "source": [
    "beta_0"
   ]
  },
  {
   "cell_type": "code",
   "execution_count": null,
   "metadata": {},
   "outputs": [],
   "source": []
  },
  {
   "cell_type": "markdown",
   "metadata": {},
   "source": [
    "Por suerte R tiene una función que calcula dicha regresión de forma automática más algunos diagnósticos, dicha función es **lm(Y~X, data = data)**"
   ]
  },
  {
   "cell_type": "code",
   "execution_count": 19,
   "metadata": {},
   "outputs": [],
   "source": [
    "# TODO\n",
    "# sustituir los valores necesarios para obtener la regresión Score ~ STR \n",
    "# y asignarlos a la variable mdl\n",
    "# obtener un resumen de dicho modelo a través de la función summary() \n",
    "# y asignarla a mdl_smry\n",
    "\n",
    "mdl <- lm(Score ~ STR, data = CASchools)\n",
    "\n",
    "mdl_smry <- summary(mdl)"
   ]
  },
  {
   "cell_type": "code",
   "execution_count": 21,
   "metadata": {},
   "outputs": [
    {
     "data": {
      "text/plain": [
       "\n",
       "Call:\n",
       "lm(formula = Score ~ STR, data = CASchools)\n",
       "\n",
       "Residuals:\n",
       "    Min      1Q  Median      3Q     Max \n",
       "-47.727 -14.251   0.483  12.822  48.540 \n",
       "\n",
       "Coefficients:\n",
       "            Estimate Std. Error t value Pr(>|t|)    \n",
       "(Intercept) 698.9329     9.4675  73.825  < 2e-16 ***\n",
       "STR          -2.2798     0.4798  -4.751 2.78e-06 ***\n",
       "---\n",
       "Signif. codes:  0 '***' 0.001 '**' 0.01 '*' 0.05 '.' 0.1 ' ' 1\n",
       "\n",
       "Residual standard error: 18.58 on 418 degrees of freedom\n",
       "Multiple R-squared:  0.05124,\tAdjusted R-squared:  0.04897 \n",
       "F-statistic: 22.58 on 1 and 418 DF,  p-value: 2.783e-06\n"
      ]
     },
     "metadata": {},
     "output_type": "display_data"
    }
   ],
   "source": [
    "mdl_smry"
   ]
  },
  {
   "cell_type": "markdown",
   "metadata": {},
   "source": [
    "<H1><center> ¿ Qué tan bueno es nuestro modelo? </center></H1>\n",
    "\n",
    "Es la pregunta natual después de generar cualquier modelo, y para el caso de los modelos lineales tenemos dos mediciones que nos sirven de diagnóstico:\n",
    "\n",
    "* Coeficiente de determinación: $R^2$\n",
    "* Error estándar de la regresión: $RSE$\n",
    "\n",
    "<H3>Coeficiente de detérminación</H3>\n",
    "\n",
    "Describe que tanta varianza de la variable dependiente (Score) explica la variable independiente (STR)\n",
    "\n",
    "Y se puede calcular de la siguiente forma:\n",
    "\n",
    "$$\n",
    "\\begin{align}\n",
    "  R^2 & = \\frac{ESS}{TSS} \\\\\n",
    "  donde: \\\\\n",
    "  ESS & =  \\sum_{i = 1}^n \\left( \\hat{Y_i} - \\overline{Y} \\right)^2,   \\\\\n",
    "  TSS & =  \\sum_{i = 1}^n \\left( Y_i - \\overline{Y} \\right)^2,   \\\\\n",
    "\\end{align}\n",
    "$$\n",
    "\n",
    "Pero dado que $ TSS = ESS + SSR $ podemos reescribir la expresión de $R^2$ como:\n",
    "\n",
    "$$\n",
    "\\begin{align}\n",
    "R^2 = 1- \\frac{SSR}{TSS} \\\\\n",
    "SSR = \\sum_{i=1}^n \\hat{u}_i^2\n",
    "\\end{align}\n",
    "$$\n",
    "\n",
    "Es decir el coeficiente de determinación es una relación entre la suma cuadrada de los residuos y la suma cuadrata total (es decir, que tanto efectivamente explicamos satisfactoriamente $Y$ en relación a $X$, es fácil observar que para que $R^2 = 1$ necesitariamos no cometer errores $(SSR = 0)$ o en caso contrario  $R^2 = 0$ sería resultado de no poder explicar nada $Y$ con $X$ es decir $ESS = 0$"
   ]
  },
  {
   "cell_type": "code",
   "execution_count": 22,
   "metadata": {},
   "outputs": [],
   "source": [
    "# TODO calcular el coeficiente de determinación\n",
    "SSR <- sum(mdl_smry$residuals^2) \n",
    "# Para poder correr esta linea tienen que haber generado \n",
    "#y asignado el resumen del modelo\n",
    "TSS <- sum((CASchools$Score - mean(CASchools$Score))^2)\n",
    "R2 <- 1 - SSR / TSS\n"
   ]
  },
  {
   "cell_type": "code",
   "execution_count": 23,
   "metadata": {},
   "outputs": [
    {
     "data": {
      "text/html": [
       "0.0512400925517701"
      ],
      "text/latex": [
       "0.0512400925517701"
      ],
      "text/markdown": [
       "0.0512400925517701"
      ],
      "text/plain": [
       "[1] 0.05124009"
      ]
     },
     "metadata": {},
     "output_type": "display_data"
    }
   ],
   "source": [
    "R2"
   ]
  },
  {
   "cell_type": "markdown",
   "metadata": {},
   "source": [
    "### Error estándar de la regresión (RSE)\n",
    "\n",
    "Ésta medición nos ayuda a describir en promedio que tanto está separada una predicción ( la recta ) de la variable dependiente ( Score ) \n",
    "\n",
    "y se puede calcular de la siguiente forma:\n",
    "\n",
    "$$\n",
    "RSE = \\frac{SSR}{n - 2}\n",
    "$$"
   ]
  },
  {
   "cell_type": "code",
   "execution_count": 24,
   "metadata": {},
   "outputs": [
    {
     "data": {
      "text/html": [
       "345.252323284784"
      ],
      "text/latex": [
       "345.252323284784"
      ],
      "text/markdown": [
       "345.252323284784"
      ],
      "text/plain": [
       "[1] 345.2523"
      ]
     },
     "metadata": {},
     "output_type": "display_data"
    }
   ],
   "source": [
    "# TODO calcular RSE \n",
    "# Hint: nrow() cuenta el número de filas del dataset\n",
    "n <- nrow(CASchools)\n",
    "\n",
    "RSE <- SSR/ (n-2)\n",
    "RSE"
   ]
  },
  {
   "cell_type": "code",
   "execution_count": 25,
   "metadata": {},
   "outputs": [
    {
     "data": {
      "text/html": [
       "18.5809666940335"
      ],
      "text/latex": [
       "18.5809666940335"
      ],
      "text/markdown": [
       "18.5809666940335"
      ],
      "text/plain": [
       "[1] 18.58097"
      ]
     },
     "metadata": {},
     "output_type": "display_data"
    }
   ],
   "source": [
    "RSE <- sqrt(RSE)\n",
    "RSE"
   ]
  },
  {
   "cell_type": "markdown",
   "metadata": {},
   "source": [
    "<H1><center> Supuestos de  OLS </center></H1>\n",
    "\n",
    "Basicamente tenemos que cumplir con 3 supuestos:\n",
    "\n",
    "* No existen desviaciones sistemáticas entre las observaciones y la recta lo que se cumpleo si: $E(u_i|X_i) = 0$\n",
    "![Error_sistemático](https://www.econometrics-with-r.org/ITER_files/figure-html/unnamed-chunk-161-1.png)\n",
    "* Las observaciones de la $Y_i$ deben ser independientes entre ellas\n",
    "* Los outliers (valores atípicos) son poco probables\n",
    "![outlier](https://www.econometrics-with-r.org/ITER_files/figure-html/unnamed-chunk-163-1.png)"
   ]
  },
  {
   "cell_type": "markdown",
   "metadata": {},
   "source": [
    "<h1><center>Muchos Test estadísticos son regresiones lineales!</center></h1>\n",
    "\n",
    "## To do: ¿ Cuál es la diferencia entre un test paramétrico y uno no-parametrico?\n",
    "\n",
    "### Correlación: Pearson y de Spearman\n",
    "\n",
    "La correlación es una medida del grado de relación de dos variables siempre y cuando ambas sean cuantitativas y continuas, la correlación de **pearson** está descrita de la siguiente forma:\n",
    "\n",
    "![pearson](https://wikimedia.org/api/rest_v1/media/math/render/svg/eab9032a258877eadedca9a7ff2902c2eb615d06)\n",
    "\n",
    "Pero en vez de verla como una formula separada la calcularemos como:\n",
    "\n",
    "$$\n",
    "Y \\sim X\n",
    "$$\n",
    "\n",
    "Donde:\n",
    "\n",
    "$\\beta_1$: coeficiente de correlación de pearson\n",
    "\n",
    "**Siempre y cuando $Y$ y $X$ tengan la misma desviación estandar**"
   ]
  },
  {
   "cell_type": "code",
   "execution_count": 72,
   "metadata": {},
   "outputs": [
    {
     "data": {
      "text/plain": [
       "\n",
       "\tPearson's product-moment correlation\n",
       "\n",
       "data:  CASchools$Scores and CASchools$STR\n",
       "t = -4.7513, df = 418, p-value = 2.783e-06\n",
       "alternative hypothesis: true correlation is not equal to 0\n",
       "95 percent confidence interval:\n",
       " -0.3152213 -0.1335696\n",
       "sample estimates:\n",
       "       cor \n",
       "-0.2263627 \n"
      ]
     },
     "metadata": {},
     "output_type": "display_data"
    },
    {
     "data": {
      "text/html": [
       "<table>\n",
       "<thead><tr><th scope=col>term</th><th scope=col>estimate</th><th scope=col>std.error</th><th scope=col>statistic</th><th scope=col>p.value</th></tr></thead>\n",
       "<tbody>\n",
       "\t<tr><td>(Intercept)  </td><td>698.932949   </td><td>9.4674911    </td><td>73.824516    </td><td>6.569846e-242</td></tr>\n",
       "\t<tr><td>CASchools$STR</td><td> -2.279808   </td><td>0.4798255    </td><td>-4.751327    </td><td> 2.783308e-06</td></tr>\n",
       "</tbody>\n",
       "</table>\n"
      ],
      "text/latex": [
       "\\begin{tabular}{r|lllll}\n",
       " term & estimate & std.error & statistic & p.value\\\\\n",
       "\\hline\n",
       "\t (Intercept)   & 698.932949    & 9.4674911     & 73.824516     & 6.569846e-242\\\\\n",
       "\t CASchools\\$STR &  -2.279808      & 0.4798255       & -4.751327       &  2.783308e-06  \\\\\n",
       "\\end{tabular}\n"
      ],
      "text/markdown": [
       "\n",
       "term | estimate | std.error | statistic | p.value | \n",
       "|---|---|\n",
       "| (Intercept)   | 698.932949    | 9.4674911     | 73.824516     | 6.569846e-242 | \n",
       "| CASchools$STR |  -2.279808    | 0.4798255     | -4.751327     |  2.783308e-06 | \n",
       "\n",
       "\n"
      ],
      "text/plain": [
       "  term          estimate   std.error statistic p.value      \n",
       "1 (Intercept)   698.932949 9.4674911 73.824516 6.569846e-242\n",
       "2 CASchools$STR  -2.279808 0.4798255 -4.751327  2.783308e-06"
      ]
     },
     "metadata": {},
     "output_type": "display_data"
    },
    {
     "data": {
      "text/html": [
       "<table>\n",
       "<thead><tr><th scope=col>term</th><th scope=col>estimate</th><th scope=col>std.error</th><th scope=col>statistic</th><th scope=col>p.value</th></tr></thead>\n",
       "<tbody>\n",
       "\t<tr><td>(Intercept)         </td><td> 6.543795e-16       </td><td>0.04758525          </td><td> 1.375173e-14       </td><td>1.000000e+00        </td></tr>\n",
       "\t<tr><td>scale(CASchools$STR)</td><td>-2.263627e-01       </td><td>0.04764200          </td><td>-4.751327e+00       </td><td>2.783308e-06        </td></tr>\n",
       "</tbody>\n",
       "</table>\n"
      ],
      "text/latex": [
       "\\begin{tabular}{r|lllll}\n",
       " term & estimate & std.error & statistic & p.value\\\\\n",
       "\\hline\n",
       "\t (Intercept)          &  6.543795e-16        & 0.04758525           &  1.375173e-14        & 1.000000e+00        \\\\\n",
       "\t scale(CASchools\\$STR) & -2.263627e-01          & 0.04764200             & -4.751327e+00          & 2.783308e-06          \\\\\n",
       "\\end{tabular}\n"
      ],
      "text/markdown": [
       "\n",
       "term | estimate | std.error | statistic | p.value | \n",
       "|---|---|\n",
       "| (Intercept)          |  6.543795e-16        | 0.04758525           |  1.375173e-14        | 1.000000e+00         | \n",
       "| scale(CASchools$STR) | -2.263627e-01        | 0.04764200           | -4.751327e+00        | 2.783308e-06         | \n",
       "\n",
       "\n"
      ],
      "text/plain": [
       "  term                 estimate      std.error  statistic     p.value     \n",
       "1 (Intercept)           6.543795e-16 0.04758525  1.375173e-14 1.000000e+00\n",
       "2 scale(CASchools$STR) -2.263627e-01 0.04764200 -4.751327e+00 2.783308e-06"
      ]
     },
     "metadata": {},
     "output_type": "display_data"
    }
   ],
   "source": [
    "cor.test(CASchools$Scores,CASchools$STR, method = \"pearson\") # Función hecha\n",
    "tidy(summary(lm(CASchools$Scores ~ CASchools$STR))) # Modelo lineal equivalente: y = Beta0 + Beta1*x\n",
    "tidy(summary(lm(scale(CASchools$Scores) ~  scale(CASchools$STR)))) # Sobre variables estandarizadas para recuperar Pearson por completo"
   ]
  },
  {
   "cell_type": "markdown",
   "metadata": {},
   "source": [
    "Una nota sobre la aproximación lineal del coeficiente de pearson, es que los p-values son una aproximación apropiada para $n>10$ y casi perfecta para $n>20$\n",
    "\n",
    "La versión no paramétrica del coeficiente de correlación de pearson, es la correlación de **spearman** la cúal evalúa la relación monótona entre dos variables continuas u ordinales.\n",
    "\n",
    "Basicamente, la mayoría de los test estadísticos no-paramétricos, son exactamente los mismos que los paramétricos, pero a los datos les efectuamos una transformación llamada **rank**. \n",
    "\n",
    "### Rank transformation\n",
    "\n",
    "la transformación *rango* es simplemente tomar una lista de números \"reemplazarlos\" con los enteros de su rango (1º más pequeño, 2º más pequeño, 3º más pequeño, etc.)"
   ]
  },
  {
   "cell_type": "code",
   "execution_count": 37,
   "metadata": {},
   "outputs": [
    {
     "data": {
      "text/html": [
       "<ol class=list-inline>\n",
       "\t<li>3</li>\n",
       "\t<li>2</li>\n",
       "\t<li>1</li>\n",
       "\t<li>4</li>\n",
       "</ol>\n"
      ],
      "text/latex": [
       "\\begin{enumerate*}\n",
       "\\item 3\n",
       "\\item 2\n",
       "\\item 1\n",
       "\\item 4\n",
       "\\end{enumerate*}\n"
      ],
      "text/markdown": [
       "1. 3\n",
       "2. 2\n",
       "3. 1\n",
       "4. 4\n",
       "\n",
       "\n"
      ],
      "text/plain": [
       "[1] 3 2 1 4"
      ]
     },
     "metadata": {},
     "output_type": "display_data"
    }
   ],
   "source": [
    "values = c(3.6, 3.4, -5.0, 8.2)\n",
    "rank(values)"
   ]
  },
  {
   "cell_type": "markdown",
   "metadata": {},
   "source": [
    "![trans_rango](https://lindeloev.github.io/tests-as-linear/index_files/figure-html/unnamed-chunk-5-1.png)"
   ]
  },
  {
   "cell_type": "markdown",
   "metadata": {},
   "source": [
    "La transformación *rango-signo* es lo mismo pero hacemos la transformación sin los signos, y después se los agregamos:"
   ]
  },
  {
   "cell_type": "code",
   "execution_count": 40,
   "metadata": {},
   "outputs": [
    {
     "data": {
      "text/html": [
       "<ol class=list-inline>\n",
       "\t<li>2</li>\n",
       "\t<li>1</li>\n",
       "\t<li>-3</li>\n",
       "\t<li>4</li>\n",
       "</ol>\n"
      ],
      "text/latex": [
       "\\begin{enumerate*}\n",
       "\\item 2\n",
       "\\item 1\n",
       "\\item -3\n",
       "\\item 4\n",
       "\\end{enumerate*}\n"
      ],
      "text/markdown": [
       "1. 2\n",
       "2. 1\n",
       "3. -3\n",
       "4. 4\n",
       "\n",
       "\n"
      ],
      "text/plain": [
       "[1]  2  1 -3  4"
      ]
     },
     "metadata": {},
     "output_type": "display_data"
    }
   ],
   "source": [
    "signed_rank = function(x)sign(x) * rank(abs(x))\n",
    "    \n",
    "\n",
    "signed_rank(values)"
   ]
  },
  {
   "cell_type": "markdown",
   "metadata": {},
   "source": [
    "Y como pueden intuir, la correlación de spearman la vamos a calcular \n",
    "\n",
    "$$\n",
    "rank(Y) \\sim rank(X)\n",
    "$$"
   ]
  },
  {
   "cell_type": "code",
   "execution_count": 66,
   "metadata": {},
   "outputs": [
    {
     "name": "stderr",
     "output_type": "stream",
     "text": [
      "Warning message in cor.test.default(CASchools$Scores, CASchools$STR, method = \"spearman\"):\n",
      "\"Cannot compute exact p-value with ties\""
     ]
    },
    {
     "data": {
      "text/plain": [
       "\n",
       "\tSpearman's rank correlation rho\n",
       "\n",
       "data:  CASchools$Scores and CASchools$STR\n",
       "S = 14948000, p-value = 1.352e-05\n",
       "alternative hypothesis: true rho is not equal to 0\n",
       "sample estimates:\n",
       "       rho \n",
       "-0.2105775 \n"
      ]
     },
     "metadata": {},
     "output_type": "display_data"
    },
    {
     "data": {
      "text/html": [
       "<table>\n",
       "<thead><tr><th scope=col>term</th><th scope=col>estimate</th><th scope=col>std.error</th><th scope=col>statistic</th><th scope=col>p.value</th></tr></thead>\n",
       "<tbody>\n",
       "\t<tr><td>(Intercept)        </td><td>254.8265249        </td><td>11.61517976        </td><td>21.939094          </td><td>1.525150e-71       </td></tr>\n",
       "\t<tr><td>rank(CASchools$STR)</td><td> -0.2105773        </td><td> 0.04781483        </td><td>-4.404017          </td><td>1.351588e-05       </td></tr>\n",
       "</tbody>\n",
       "</table>\n"
      ],
      "text/latex": [
       "\\begin{tabular}{r|lllll}\n",
       " term & estimate & std.error & statistic & p.value\\\\\n",
       "\\hline\n",
       "\t (Intercept)         & 254.8265249         & 11.61517976         & 21.939094           & 1.525150e-71       \\\\\n",
       "\t rank(CASchools\\$STR) &  -0.2105773           &  0.04781483           & -4.404017             & 1.351588e-05         \\\\\n",
       "\\end{tabular}\n"
      ],
      "text/markdown": [
       "\n",
       "term | estimate | std.error | statistic | p.value | \n",
       "|---|---|\n",
       "| (Intercept)         | 254.8265249         | 11.61517976         | 21.939094           | 1.525150e-71        | \n",
       "| rank(CASchools$STR) |  -0.2105773         |  0.04781483         | -4.404017           | 1.351588e-05        | \n",
       "\n",
       "\n"
      ],
      "text/plain": [
       "  term                estimate    std.error   statistic p.value     \n",
       "1 (Intercept)         254.8265249 11.61517976 21.939094 1.525150e-71\n",
       "2 rank(CASchools$STR)  -0.2105773  0.04781483 -4.404017 1.351588e-05"
      ]
     },
     "metadata": {},
     "output_type": "display_data"
    }
   ],
   "source": [
    "cor.test(CASchools$Scores,CASchools$STR, method = \"spearman\") # Built-in\n",
    "tidy(summary(lm(rank(CASchools$Scores) ~ rank(CASchools$STR))))  # modelo lineal equivalente"
   ]
  },
  {
   "cell_type": "markdown",
   "metadata": {},
   "source": [
    "se le conoce como ** ties ** a cuando tenemos dos valores identicos en los datos"
   ]
  },
  {
   "cell_type": "markdown",
   "metadata": {},
   "source": [
    "### Comparación de una media: T-test de una muestra y Wilcoxon de signo-rango \n",
    "\n",
    "Es un procedimiento estadístico utilizado para determinar si $n$ observaciones podrían haber sido generadas por un distribución con con una media específica.\n",
    "\n",
    "El modelo lineal equivalente del t-test es el siguiente:\n",
    "\n",
    "$$\n",
    "y = \\beta_0 \\qquad \\mathcal{H}_0: \\beta_0 = 0\n",
    "$$\n",
    "\n",
    "el de la prueba de rangos con signo de wilcoxon\n",
    "\n",
    "$$\n",
    "signedrank(y) = \\beta_0 \\qquad \\mathcal{H}_0: \\beta_0 = 0\n",
    "$$\n",
    "\n",
    "---\n",
    "---\n",
    "---\n",
    "---\n",
    "---\n",
    "\n",
    "\n",
    "![t-wilcoxon1](https://lindeloev.github.io/tests-as-linear/index_files/figure-html/unnamed-chunk-13-1.png)"
   ]
  },
  {
   "cell_type": "code",
   "execution_count": 35,
   "metadata": {},
   "outputs": [
    {
     "data": {
      "text/html": [
       "<ol class=list-inline>\n",
       "\t<li>690.799987792969</li>\n",
       "\t<li>661.200012207031</li>\n",
       "\t<li>643.600006103516</li>\n",
       "\t<li>647.700012207031</li>\n",
       "\t<li>640.850006103516</li>\n",
       "</ol>\n"
      ],
      "text/latex": [
       "\\begin{enumerate*}\n",
       "\\item 690.799987792969\n",
       "\\item 661.200012207031\n",
       "\\item 643.600006103516\n",
       "\\item 647.700012207031\n",
       "\\item 640.850006103516\n",
       "\\end{enumerate*}\n"
      ],
      "text/markdown": [
       "1. 690.799987792969\n",
       "2. 661.200012207031\n",
       "3. 643.600006103516\n",
       "4. 647.700012207031\n",
       "5. 640.850006103516\n",
       "\n",
       "\n"
      ],
      "text/plain": [
       "[1] 690.80 661.20 643.60 647.70 640.85"
      ]
     },
     "metadata": {},
     "output_type": "display_data"
    }
   ],
   "source": [
    "head(CASchools$Score,5)"
   ]
  },
  {
   "cell_type": "code",
   "execution_count": 40,
   "metadata": {},
   "outputs": [
    {
     "data": {
      "text/plain": [
       "\n",
       "\tOne Sample t-test\n",
       "\n",
       "data:  CASchools$Score\n",
       "t = 703.61, df = 419, p-value < 2.2e-16\n",
       "alternative hypothesis: true mean is not equal to 0\n",
       "95 percent confidence interval:\n",
       " 652.3291 655.9840\n",
       "sample estimates:\n",
       "mean of x \n",
       " 654.1565 \n"
      ]
     },
     "metadata": {},
     "output_type": "display_data"
    },
    {
     "data": {
      "text/html": [
       "<table>\n",
       "<thead><tr><th scope=col>term</th><th scope=col>estimate</th><th scope=col>std.error</th><th scope=col>statistic</th><th scope=col>p.value</th></tr></thead>\n",
       "<tbody>\n",
       "\t<tr><td>(Intercept)</td><td>654.1565   </td><td>0.9297081  </td><td>703.615    </td><td>0          </td></tr>\n",
       "</tbody>\n",
       "</table>\n"
      ],
      "text/latex": [
       "\\begin{tabular}{r|lllll}\n",
       " term & estimate & std.error & statistic & p.value\\\\\n",
       "\\hline\n",
       "\t (Intercept) & 654.1565    & 0.9297081   & 703.615     & 0          \\\\\n",
       "\\end{tabular}\n"
      ],
      "text/markdown": [
       "\n",
       "term | estimate | std.error | statistic | p.value | \n",
       "|---|\n",
       "| (Intercept) | 654.1565    | 0.9297081   | 703.615     | 0           | \n",
       "\n",
       "\n"
      ],
      "text/plain": [
       "  term        estimate std.error statistic p.value\n",
       "1 (Intercept) 654.1565 0.9297081 703.615   0      "
      ]
     },
     "metadata": {},
     "output_type": "display_data"
    }
   ],
   "source": [
    "t.test(CASchools$Score)\n",
    "\n",
    "#Equivalent linear model: intercept-only\n",
    "tidy(summary(lm(CASchools$Score ~ 1)))"
   ]
  },
  {
   "cell_type": "code",
   "execution_count": null,
   "metadata": {},
   "outputs": [],
   "source": [
    "t.test(CASchools$Scores)\n",
    "\n",
    "# Equivalent linear model: intercept-only\n",
    "tidy(summary(lm(CASchools$Scores ~ 1)))"
   ]
  },
  {
   "cell_type": "code",
   "execution_count": 77,
   "metadata": {},
   "outputs": [
    {
     "data": {
      "text/plain": [
       "\n",
       "\tWilcoxon signed rank test with continuity correction\n",
       "\n",
       "data:  CASchools$Scores\n",
       "V = 88410, p-value < 2.2e-16\n",
       "alternative hypothesis: true location is not equal to 0\n"
      ]
     },
     "metadata": {},
     "output_type": "display_data"
    },
    {
     "data": {
      "text/html": [
       "<table>\n",
       "<thead><tr><th scope=col>term</th><th scope=col>estimate</th><th scope=col>std.error</th><th scope=col>statistic</th><th scope=col>p.value</th></tr></thead>\n",
       "<tbody>\n",
       "\t<tr><td>(Intercept)  </td><td>210.5        </td><td>5.923111     </td><td>35.53876     </td><td>1.568749e-128</td></tr>\n",
       "</tbody>\n",
       "</table>\n"
      ],
      "text/latex": [
       "\\begin{tabular}{r|lllll}\n",
       " term & estimate & std.error & statistic & p.value\\\\\n",
       "\\hline\n",
       "\t (Intercept)   & 210.5         & 5.923111      & 35.53876      & 1.568749e-128\\\\\n",
       "\\end{tabular}\n"
      ],
      "text/markdown": [
       "\n",
       "term | estimate | std.error | statistic | p.value | \n",
       "|---|\n",
       "| (Intercept)   | 210.5         | 5.923111      | 35.53876      | 1.568749e-128 | \n",
       "\n",
       "\n"
      ],
      "text/plain": [
       "  term        estimate std.error statistic p.value      \n",
       "1 (Intercept) 210.5    5.923111  35.53876  1.568749e-128"
      ]
     },
     "metadata": {},
     "output_type": "display_data"
    },
    {
     "data": {
      "text/plain": [
       "\n",
       "\tOne Sample t-test\n",
       "\n",
       "data:  signed_rank(CASchools$Scores)\n",
       "t = 35.539, df = 419, p-value < 2.2e-16\n",
       "alternative hypothesis: true mean is not equal to 0\n",
       "95 percent confidence interval:\n",
       " 198.8573 222.1427\n",
       "sample estimates:\n",
       "mean of x \n",
       "    210.5 \n"
      ]
     },
     "metadata": {},
     "output_type": "display_data"
    }
   ],
   "source": [
    "# Built-in\n",
    "wilcox.test(CASchools$Scores)\n",
    "\n",
    "# Equivalent linear model\n",
    "tidy(summary(lm(signed_rank(CASchools$Scores) ~ 1)))  # mismo modelo, solo con signed_rank\n",
    "\n",
    "# Bonus: \n",
    "t.test(signed_rank(CASchools$Scores))"
   ]
  },
  {
   "cell_type": "markdown",
   "metadata": {},
   "source": [
    "**Esta aproximación es lo suficientemente buena cuando el tamaño de la muestra es mayor que 14 y casi perfecta si el tamaño de la muestra es mayor que 50**\n",
    "\n",
    "### Dos medias y un grupo : Paired samples t-test and Wilcoxon matched pairs\n",
    "\n",
    "Este tipo de pruebas se usan para comparar dos medias de población donde se tiene dos muestras en las que las observaciones en una muestra se pueden emparejar con las observaciones en la otra muestra (ejemplos ?)\n",
    "\n",
    "![paried_t](https://lindeloev.github.io/tests-as-linear/index_files/figure-html/unnamed-chunk-20-1.png)\n",
    "\n",
    "---\n",
    "---\n",
    "---\n",
    "---\n",
    "\n",
    "La aproximación lineal es bastante sencilla:\n",
    "\n",
    "$$\n",
    "y_2-y_1 = \\beta_0 \\qquad \\mathcal{H}_0: \\beta_0 = 0\n",
    "$$\n",
    "\n",
    "y pueden estar seguros que la versión no paramétrica no es otra que:\n",
    "\n",
    "$$\n",
    "signedrank(y_2-y_1) = \\beta_0 \\qquad \\mathcal{H}_0: \\beta_0 = 0\n",
    "$$\n",
    "\n",
    "---\n",
    "---\n",
    "---\n",
    "---\n",
    "\n",
    "Supongamos que tenemos un grupo de pacientes, a los que les vamos a dar una pastilla que hace inteligente a las personas, medimos el IQ antes y después de la pastilla, queremos comparar si la pastilla tiene un efecto sobre el IQ.\n",
    "\n",
    "**¿Qué supuesto del OLS viola en principio este problema y por lo tanto se tienen que utilizar muestras pareadas?**"
   ]
  },
  {
   "cell_type": "code",
   "execution_count": 42,
   "metadata": {},
   "outputs": [
    {
     "data": {
      "text/plain": [
       "\n",
       "\tPaired t-test\n",
       "\n",
       "data:  IQ_antes and IQ_despues\n",
       "t = -1.5694, df = 4, p-value = 0.1916\n",
       "alternative hypothesis: true difference in means is not equal to 0\n",
       "95 percent confidence interval:\n",
       " -27.690989   7.690989\n",
       "sample estimates:\n",
       "mean of the differences \n",
       "                    -10 \n"
      ]
     },
     "metadata": {},
     "output_type": "display_data"
    },
    {
     "data": {
      "text/html": [
       "<table>\n",
       "<thead><tr><th scope=col>term</th><th scope=col>estimate</th><th scope=col>std.error</th><th scope=col>statistic</th><th scope=col>p.value</th></tr></thead>\n",
       "<tbody>\n",
       "\t<tr><td>(Intercept)</td><td>-10        </td><td>6.371813   </td><td>-1.569412  </td><td>0.1916352  </td></tr>\n",
       "</tbody>\n",
       "</table>\n"
      ],
      "text/latex": [
       "\\begin{tabular}{r|lllll}\n",
       " term & estimate & std.error & statistic & p.value\\\\\n",
       "\\hline\n",
       "\t (Intercept) & -10         & 6.371813    & -1.569412   & 0.1916352  \\\\\n",
       "\\end{tabular}\n"
      ],
      "text/markdown": [
       "\n",
       "term | estimate | std.error | statistic | p.value | \n",
       "|---|\n",
       "| (Intercept) | -10         | 6.371813    | -1.569412   | 0.1916352   | \n",
       "\n",
       "\n"
      ],
      "text/plain": [
       "  term        estimate std.error statistic p.value  \n",
       "1 (Intercept) -10      6.371813  -1.569412 0.1916352"
      ]
     },
     "metadata": {},
     "output_type": "display_data"
    }
   ],
   "source": [
    "IQ_antes <- c(100,115,90,80,75)\n",
    "IQ_despues <- c(101,110,95,99,105)\n",
    "\n",
    "t.test(IQ_antes, IQ_despues, paired = TRUE) # Built-in paired t-test\n",
    "tidy(summary(lm(IQ_antes - IQ_despues ~ 1))) # Equivalent linear model"
   ]
  },
  {
   "cell_type": "code",
   "execution_count": 81,
   "metadata": {},
   "outputs": [
    {
     "name": "stderr",
     "output_type": "stream",
     "text": [
      "Warning message in wilcox.test.default(IQ_antes, IQ_despues, paired = TRUE):\n",
      "\"cannot compute exact p-value with ties\""
     ]
    },
    {
     "data": {
      "text/plain": [
       "\n",
       "\tWilcoxon signed rank test with continuity correction\n",
       "\n",
       "data:  IQ_antes and IQ_despues\n",
       "V = 2.5, p-value = 0.2228\n",
       "alternative hypothesis: true location shift is not equal to 0\n"
      ]
     },
     "metadata": {},
     "output_type": "display_data"
    },
    {
     "data": {
      "text/html": [
       "<table>\n",
       "<thead><tr><th scope=col>term</th><th scope=col>estimate</th><th scope=col>std.error</th><th scope=col>statistic</th><th scope=col>p.value</th></tr></thead>\n",
       "<tbody>\n",
       "\t<tr><td>(Intercept)</td><td>-2         </td><td>1.313393   </td><td>-1.522774  </td><td>0.202479   </td></tr>\n",
       "</tbody>\n",
       "</table>\n"
      ],
      "text/latex": [
       "\\begin{tabular}{r|lllll}\n",
       " term & estimate & std.error & statistic & p.value\\\\\n",
       "\\hline\n",
       "\t (Intercept) & -2          & 1.313393    & -1.522774   & 0.202479   \\\\\n",
       "\\end{tabular}\n"
      ],
      "text/markdown": [
       "\n",
       "term | estimate | std.error | statistic | p.value | \n",
       "|---|\n",
       "| (Intercept) | -2          | 1.313393    | -1.522774   | 0.202479    | \n",
       "\n",
       "\n"
      ],
      "text/plain": [
       "  term        estimate std.error statistic p.value \n",
       "1 (Intercept) -2       1.313393  -1.522774 0.202479"
      ]
     },
     "metadata": {},
     "output_type": "display_data"
    },
    {
     "data": {
      "text/plain": [
       "\n",
       "\tOne Sample t-test\n",
       "\n",
       "data:  signed_rank(IQ_antes - IQ_despues)\n",
       "t = -1.5228, df = 4, p-value = 0.2025\n",
       "alternative hypothesis: true mean is not equal to 0\n",
       "95 percent confidence interval:\n",
       " -5.646562  1.646562\n",
       "sample estimates:\n",
       "mean of x \n",
       "       -2 \n"
      ]
     },
     "metadata": {},
     "output_type": "display_data"
    }
   ],
   "source": [
    "# Built-in Wilcoxon matched pairs\n",
    "wilcox.test(IQ_antes, IQ_despues, paired = TRUE)\n",
    "\n",
    "# Equivalent linear model:\n",
    "tidy(summary(lm(signed_rank(IQ_antes - IQ_despues) ~ 1)))\n",
    "\n",
    "# Bonus: identical to one-sample t-test ong signed ranks\n",
    "t.test(signed_rank(IQ_antes - IQ_despues))"
   ]
  },
  {
   "cell_type": "markdown",
   "metadata": {},
   "source": [
    "Para muestras grandes $(N >> 100)$,la aproximación lineal del wolcoxon sign test es razonable, pero la aproximación no es muy precisa para muestras pequeñas.\n",
    "\n",
    "\n",
    "\n",
    "### Dos medias: Independent t-test and Mann-Whitney U\n",
    "\n",
    "Utilizamos estos test, cuando tenemos dos grupos independientes diferenciados por un factor de interés, en este caso pensando en el ejemplo de la pastilla del IQ, en vez de tener solo un grupo de personas y medir antes y después de la pastilla, tenemos dos grupos de personas, uno al que le no le dimos pastilla (control) y otro al que sí (experimental).\n",
    "\n",
    "la aproximación lineal de estos test, es la siguiente:\n",
    "\n",
    "$$\n",
    "y_i = \\beta_0 + \\beta_1 x_i \\qquad \\mathcal{H}_0: \\beta_1 = 0\n",
    "$$\n",
    "\n",
    "y la versión no paramétrica es conocida como Mann-Whitey U o Wilcoxon rank-sum test:\n",
    "\n",
    "$$\n",
    "rank(y_i) = \\beta_0 + \\beta_1 x_i \\qquad \\mathcal{H}_0: \\beta_1 = 0\n",
    "$$\n",
    "\n",
    "\n",
    "Para ambos casos la variable $x_i$ codifica si la observación pertenece al grupo control, o al grupo experimental. \n",
    "\n",
    "\n",
    "La aproximación es apropiada cuando el tamaño de la muestra es mayor que 11 en cada grupo y virtualmente perfecto cuando $N> 30$ en cada grupo"
   ]
  },
  {
   "cell_type": "code",
   "execution_count": 43,
   "metadata": {},
   "outputs": [
    {
     "data": {
      "text/html": [
       "<table>\n",
       "<thead><tr><th scope=col>IQ</th><th scope=col>Grupo</th></tr></thead>\n",
       "<tbody>\n",
       "\t<tr><td>100</td><td>0  </td></tr>\n",
       "\t<tr><td>115</td><td>0  </td></tr>\n",
       "\t<tr><td> 90</td><td>0  </td></tr>\n",
       "\t<tr><td> 80</td><td>0  </td></tr>\n",
       "\t<tr><td> 75</td><td>0  </td></tr>\n",
       "\t<tr><td>101</td><td>1  </td></tr>\n",
       "\t<tr><td>110</td><td>1  </td></tr>\n",
       "\t<tr><td> 95</td><td>1  </td></tr>\n",
       "\t<tr><td> 99</td><td>1  </td></tr>\n",
       "\t<tr><td>105</td><td>1  </td></tr>\n",
       "</tbody>\n",
       "</table>\n"
      ],
      "text/latex": [
       "\\begin{tabular}{r|ll}\n",
       " IQ & Grupo\\\\\n",
       "\\hline\n",
       "\t 100 & 0  \\\\\n",
       "\t 115 & 0  \\\\\n",
       "\t  90 & 0  \\\\\n",
       "\t  80 & 0  \\\\\n",
       "\t  75 & 0  \\\\\n",
       "\t 101 & 1  \\\\\n",
       "\t 110 & 1  \\\\\n",
       "\t  95 & 1  \\\\\n",
       "\t  99 & 1  \\\\\n",
       "\t 105 & 1  \\\\\n",
       "\\end{tabular}\n"
      ],
      "text/markdown": [
       "\n",
       "IQ | Grupo | \n",
       "|---|---|---|---|---|---|---|---|---|---|\n",
       "| 100 | 0   | \n",
       "| 115 | 0   | \n",
       "|  90 | 0   | \n",
       "|  80 | 0   | \n",
       "|  75 | 0   | \n",
       "| 101 | 1   | \n",
       "| 110 | 1   | \n",
       "|  95 | 1   | \n",
       "|  99 | 1   | \n",
       "| 105 | 1   | \n",
       "\n",
       "\n"
      ],
      "text/plain": [
       "   IQ  Grupo\n",
       "1  100 0    \n",
       "2  115 0    \n",
       "3   90 0    \n",
       "4   80 0    \n",
       "5   75 0    \n",
       "6  101 1    \n",
       "7  110 1    \n",
       "8   95 1    \n",
       "9   99 1    \n",
       "10 105 1    "
      ]
     },
     "metadata": {},
     "output_type": "display_data"
    }
   ],
   "source": [
    "df_IQ <- data.frame(IQ = c(IQ_antes,IQ_despues),\n",
    "                    Grupo = c(rep(0,5),rep(1,5))\n",
    ")\n",
    "df_IQ"
   ]
  },
  {
   "cell_type": "code",
   "execution_count": 44,
   "metadata": {},
   "outputs": [
    {
     "data": {
      "text/html": [
       "<table>\n",
       "<thead><tr><th scope=col>term</th><th scope=col>estimate</th><th scope=col>std.error</th><th scope=col>statistic</th><th scope=col>p.value</th></tr></thead>\n",
       "<tbody>\n",
       "\t<tr><td>(Intercept) </td><td>92          </td><td>5.389805    </td><td>17.069263   </td><td>1.409745e-07</td></tr>\n",
       "\t<tr><td>df_IQ$Grupo </td><td>10          </td><td>7.622336    </td><td> 1.311934   </td><td>2.259355e-01</td></tr>\n",
       "</tbody>\n",
       "</table>\n"
      ],
      "text/latex": [
       "\\begin{tabular}{r|lllll}\n",
       " term & estimate & std.error & statistic & p.value\\\\\n",
       "\\hline\n",
       "\t (Intercept)  & 92           & 5.389805     & 17.069263    & 1.409745e-07\\\\\n",
       "\t df\\_IQ\\$Grupo & 10              & 7.622336        &  1.311934       & 2.259355e-01   \\\\\n",
       "\\end{tabular}\n"
      ],
      "text/markdown": [
       "\n",
       "term | estimate | std.error | statistic | p.value | \n",
       "|---|---|\n",
       "| (Intercept)  | 92           | 5.389805     | 17.069263    | 1.409745e-07 | \n",
       "| df_IQ$Grupo  | 10           | 7.622336     |  1.311934    | 2.259355e-01 | \n",
       "\n",
       "\n"
      ],
      "text/plain": [
       "  term        estimate std.error statistic p.value     \n",
       "1 (Intercept) 92       5.389805  17.069263 1.409745e-07\n",
       "2 df_IQ$Grupo 10       7.622336   1.311934 2.259355e-01"
      ]
     },
     "metadata": {},
     "output_type": "display_data"
    }
   ],
   "source": [
    "tidy(summary(lm(df_IQ$IQ ~ df_IQ$Grupo)))"
   ]
  },
  {
   "cell_type": "markdown",
   "metadata": {},
   "source": [
    "* ¿Cuál es la media del grupo control?\n",
    "* ¿Cuál es la media del grupo experimental?\n",
    "* ¿Cuál es la diferencia entre los dos grupos?\n"
   ]
  },
  {
   "cell_type": "code",
   "execution_count": 87,
   "metadata": {},
   "outputs": [
    {
     "data": {
      "text/html": [
       "<table>\n",
       "<thead><tr><th scope=col>term</th><th scope=col>estimate</th><th scope=col>std.error</th><th scope=col>statistic</th><th scope=col>p.value</th></tr></thead>\n",
       "<tbody>\n",
       "\t<tr><td>(Intercept)</td><td>4.4        </td><td>1.326650   </td><td>3.316625   </td><td>0.01059317 </td></tr>\n",
       "\t<tr><td>df_IQ$Grupo</td><td>2.2        </td><td>1.876166   </td><td>1.172604   </td><td>0.27468613 </td></tr>\n",
       "</tbody>\n",
       "</table>\n"
      ],
      "text/latex": [
       "\\begin{tabular}{r|lllll}\n",
       " term & estimate & std.error & statistic & p.value\\\\\n",
       "\\hline\n",
       "\t (Intercept) & 4.4         & 1.326650    & 3.316625    & 0.01059317 \\\\\n",
       "\t df\\_IQ\\$Grupo & 2.2             & 1.876166        & 1.172604        & 0.27468613     \\\\\n",
       "\\end{tabular}\n"
      ],
      "text/markdown": [
       "\n",
       "term | estimate | std.error | statistic | p.value | \n",
       "|---|---|\n",
       "| (Intercept) | 4.4         | 1.326650    | 3.316625    | 0.01059317  | \n",
       "| df_IQ$Grupo | 2.2         | 1.876166    | 1.172604    | 0.27468613  | \n",
       "\n",
       "\n"
      ],
      "text/plain": [
       "  term        estimate std.error statistic p.value   \n",
       "1 (Intercept) 4.4      1.326650  3.316625  0.01059317\n",
       "2 df_IQ$Grupo 2.2      1.876166  1.172604  0.27468613"
      ]
     },
     "metadata": {},
     "output_type": "display_data"
    }
   ],
   "source": [
    "tidy(summary(lm(rank(df_IQ$IQ) ~ df_IQ$Grupo)))"
   ]
  },
  {
   "cell_type": "markdown",
   "metadata": {},
   "source": [
    "La prueba t asume varianzas iguales para ambos grupos, existe un test que es exactamente igual que no asume esto, se conoce como **WELCH t-test** \n",
    "\n",
    "y en la aproximación lineal solo especificamos que las varianzas son distintas por grupo:"
   ]
  },
  {
   "cell_type": "code",
   "execution_count": 91,
   "metadata": {},
   "outputs": [
    {
     "data": {
      "text/plain": [
       "Generalized least squares fit by maximum likelihood\n",
       "  Model: IQ ~ Grupo \n",
       "  Data: df_IQ \n",
       "  Log-likelihood: -35.69249\n",
       "\n",
       "Coefficients:\n",
       "(Intercept)       Grupo \n",
       "         92          10 \n",
       "\n",
       "Variance function:\n",
       " Structure: Different standard deviations per stratum\n",
       " Formula: ~1 | Grupo \n",
       " Parameter estimates:\n",
       "        0         1 \n",
       "1.0000000 0.3579878 \n",
       "Degrees of freedom: 10 total; 8 residual\n",
       "Residual standard error: 14.3527 "
      ]
     },
     "metadata": {},
     "output_type": "display_data"
    }
   ],
   "source": [
    "nlme::gls(IQ ~ Grupo, data = df_IQ, weights = nlme::varIdent(form=~1|Grupo), method=\"ML\")"
   ]
  },
  {
   "cell_type": "markdown",
   "metadata": {},
   "source": [
    "### Tres o más medias: ANOVA de una vía y Kruskal-Wallis\n",
    "\n",
    "La extensión para más grupos del t-test y el U-MannWhitney, se les conoce como ANOVA y Kruskal-Wallis, respectivamente.\n",
    "\n",
    "La versión de los test, desde la aproximación lineal es la siguiente:\n",
    "\n",
    "$$\n",
    "y = \\beta_0 + \\beta_1 x_1 + \\beta_2 x_2 + \\beta_3 x_3 +... \\qquad \\mathcal{H}_0: y = \\beta_0\n",
    "$$\n",
    "\n",
    "Y no les sorprenderá que la versión no paramétrica (Kruskal-Wallis) es con una transformación rank sobre la variable dependiente.\n",
    "\n",
    "Como pueden observar, en este momento ya pasamos de hablar de una regresión lineal simple, a una **regresión lineal multiple**.\n",
    "\n",
    "Del mismo modo, las variables $x_1,x_2,....x_n$ son variables indicadoras.\n",
    "\n",
    "![ANOVA](https://lindeloev.github.io/tests-as-linear/index_files/figure-html/unnamed-chunk-37-1.png)"
   ]
  },
  {
   "cell_type": "code",
   "execution_count": 92,
   "metadata": {},
   "outputs": [
    {
     "data": {
      "text/html": [
       "<table>\n",
       "<thead><tr><th scope=col>value</th><th scope=col>group</th><th scope=col>group_b</th><th scope=col>group_c</th></tr></thead>\n",
       "<tbody>\n",
       "\t<tr><td>-0.79837608</td><td>a          </td><td>0          </td><td>0          </td></tr>\n",
       "\t<tr><td>-2.10980476</td><td>a          </td><td>0          </td><td>0          </td></tr>\n",
       "\t<tr><td>-1.16688190</td><td>a          </td><td>0          </td><td>0          </td></tr>\n",
       "\t<tr><td> 0.83424569</td><td>a          </td><td>0          </td><td>0          </td></tr>\n",
       "\t<tr><td> 0.22914871</td><td>a          </td><td>0          </td><td>0          </td></tr>\n",
       "\t<tr><td> 0.49672345</td><td>a          </td><td>0          </td><td>0          </td></tr>\n",
       "\t<tr><td> 0.48576442</td><td>a          </td><td>0          </td><td>0          </td></tr>\n",
       "\t<tr><td>-0.76534301</td><td>a          </td><td>0          </td><td>0          </td></tr>\n",
       "\t<tr><td> 0.37214721</td><td>a          </td><td>0          </td><td>0          </td></tr>\n",
       "\t<tr><td>-0.44297033</td><td>a          </td><td>0          </td><td>0          </td></tr>\n",
       "\t<tr><td>-1.56068580</td><td>a          </td><td>0          </td><td>0          </td></tr>\n",
       "\t<tr><td>-0.49685546</td><td>a          </td><td>0          </td><td>0          </td></tr>\n",
       "\t<tr><td>-0.86609766</td><td>a          </td><td>0          </td><td>0          </td></tr>\n",
       "\t<tr><td>-0.62627788</td><td>a          </td><td>0          </td><td>0          </td></tr>\n",
       "\t<tr><td> 0.93813831</td><td>a          </td><td>0          </td><td>0          </td></tr>\n",
       "\t<tr><td>-0.75546585</td><td>a          </td><td>0          </td><td>0          </td></tr>\n",
       "\t<tr><td> 0.34198586</td><td>a          </td><td>0          </td><td>0          </td></tr>\n",
       "\t<tr><td>-0.49379340</td><td>a          </td><td>0          </td><td>0          </td></tr>\n",
       "\t<tr><td>-1.39684469</td><td>a          </td><td>0          </td><td>0          </td></tr>\n",
       "\t<tr><td>-0.11642183</td><td>a          </td><td>0          </td><td>0          </td></tr>\n",
       "\t<tr><td> 1.00168951</td><td>b          </td><td>1          </td><td>0          </td></tr>\n",
       "\t<tr><td> 0.07937425</td><td>b          </td><td>1          </td><td>0          </td></tr>\n",
       "\t<tr><td> 2.04035214</td><td>b          </td><td>1          </td><td>0          </td></tr>\n",
       "\t<tr><td> 0.26562288</td><td>b          </td><td>1          </td><td>0          </td></tr>\n",
       "\t<tr><td> 2.57094201</td><td>b          </td><td>1          </td><td>0          </td></tr>\n",
       "\t<tr><td> 1.95303508</td><td>b          </td><td>1          </td><td>0          </td></tr>\n",
       "\t<tr><td> 0.53978271</td><td>b          </td><td>1          </td><td>0          </td></tr>\n",
       "\t<tr><td> 0.67015241</td><td>b          </td><td>1          </td><td>0          </td></tr>\n",
       "\t<tr><td> 0.81970330</td><td>b          </td><td>1          </td><td>0          </td></tr>\n",
       "\t<tr><td>-0.79491813</td><td>b          </td><td>1          </td><td>0          </td></tr>\n",
       "\t<tr><td> 0.15997967</td><td>b          </td><td>1          </td><td>0          </td></tr>\n",
       "\t<tr><td> 1.85665133</td><td>b          </td><td>1          </td><td>0          </td></tr>\n",
       "\t<tr><td> 1.79281115</td><td>b          </td><td>1          </td><td>0          </td></tr>\n",
       "\t<tr><td> 1.59885741</td><td>b          </td><td>1          </td><td>0          </td></tr>\n",
       "\t<tr><td>-0.80518448</td><td>b          </td><td>1          </td><td>0          </td></tr>\n",
       "\t<tr><td> 1.74835661</td><td>b          </td><td>1          </td><td>0          </td></tr>\n",
       "\t<tr><td> 2.06647758</td><td>b          </td><td>1          </td><td>0          </td></tr>\n",
       "\t<tr><td> 2.13948629</td><td>b          </td><td>1          </td><td>0          </td></tr>\n",
       "\t<tr><td> 2.37452116</td><td>b          </td><td>1          </td><td>0          </td></tr>\n",
       "\t<tr><td> 1.90445069</td><td>b          </td><td>1          </td><td>0          </td></tr>\n",
       "\t<tr><td>-0.74199652</td><td>c          </td><td>0          </td><td>1          </td></tr>\n",
       "\t<tr><td>-0.64953381</td><td>c          </td><td>0          </td><td>1          </td></tr>\n",
       "\t<tr><td> 0.49907252</td><td>c          </td><td>0          </td><td>1          </td></tr>\n",
       "\t<tr><td> 1.75670897</td><td>c          </td><td>0          </td><td>1          </td></tr>\n",
       "\t<tr><td> 0.67682439</td><td>c          </td><td>0          </td><td>1          </td></tr>\n",
       "\t<tr><td> 2.28548841</td><td>c          </td><td>0          </td><td>1          </td></tr>\n",
       "\t<tr><td> 0.22978489</td><td>c          </td><td>0          </td><td>1          </td></tr>\n",
       "\t<tr><td> 0.74287109</td><td>c          </td><td>0          </td><td>1          </td></tr>\n",
       "\t<tr><td> 0.97999743</td><td>c          </td><td>0          </td><td>1          </td></tr>\n",
       "\t<tr><td>-0.21285284</td><td>c          </td><td>0          </td><td>1          </td></tr>\n",
       "\t<tr><td> 2.27330165</td><td>c          </td><td>0          </td><td>1          </td></tr>\n",
       "\t<tr><td> 1.34576758</td><td>c          </td><td>0          </td><td>1          </td></tr>\n",
       "\t<tr><td>-1.78778507</td><td>c          </td><td>0          </td><td>1          </td></tr>\n",
       "\t<tr><td> 0.37547863</td><td>c          </td><td>0          </td><td>1          </td></tr>\n",
       "\t<tr><td> 0.71141747</td><td>c          </td><td>0          </td><td>1          </td></tr>\n",
       "\t<tr><td> 0.68241756</td><td>c          </td><td>0          </td><td>1          </td></tr>\n",
       "\t<tr><td> 0.72096885</td><td>c          </td><td>0          </td><td>1          </td></tr>\n",
       "\t<tr><td> 0.77019841</td><td>c          </td><td>0          </td><td>1          </td></tr>\n",
       "\t<tr><td> 0.77680611</td><td>c          </td><td>0          </td><td>1          </td></tr>\n",
       "\t<tr><td>-0.45616270</td><td>c          </td><td>0          </td><td>1          </td></tr>\n",
       "</tbody>\n",
       "</table>\n"
      ],
      "text/latex": [
       "\\begin{tabular}{r|llll}\n",
       " value & group & group\\_b & group\\_c\\\\\n",
       "\\hline\n",
       "\t -0.79837608 & a           & 0           & 0          \\\\\n",
       "\t -2.10980476 & a           & 0           & 0          \\\\\n",
       "\t -1.16688190 & a           & 0           & 0          \\\\\n",
       "\t  0.83424569 & a           & 0           & 0          \\\\\n",
       "\t  0.22914871 & a           & 0           & 0          \\\\\n",
       "\t  0.49672345 & a           & 0           & 0          \\\\\n",
       "\t  0.48576442 & a           & 0           & 0          \\\\\n",
       "\t -0.76534301 & a           & 0           & 0          \\\\\n",
       "\t  0.37214721 & a           & 0           & 0          \\\\\n",
       "\t -0.44297033 & a           & 0           & 0          \\\\\n",
       "\t -1.56068580 & a           & 0           & 0          \\\\\n",
       "\t -0.49685546 & a           & 0           & 0          \\\\\n",
       "\t -0.86609766 & a           & 0           & 0          \\\\\n",
       "\t -0.62627788 & a           & 0           & 0          \\\\\n",
       "\t  0.93813831 & a           & 0           & 0          \\\\\n",
       "\t -0.75546585 & a           & 0           & 0          \\\\\n",
       "\t  0.34198586 & a           & 0           & 0          \\\\\n",
       "\t -0.49379340 & a           & 0           & 0          \\\\\n",
       "\t -1.39684469 & a           & 0           & 0          \\\\\n",
       "\t -0.11642183 & a           & 0           & 0          \\\\\n",
       "\t  1.00168951 & b           & 1           & 0          \\\\\n",
       "\t  0.07937425 & b           & 1           & 0          \\\\\n",
       "\t  2.04035214 & b           & 1           & 0          \\\\\n",
       "\t  0.26562288 & b           & 1           & 0          \\\\\n",
       "\t  2.57094201 & b           & 1           & 0          \\\\\n",
       "\t  1.95303508 & b           & 1           & 0          \\\\\n",
       "\t  0.53978271 & b           & 1           & 0          \\\\\n",
       "\t  0.67015241 & b           & 1           & 0          \\\\\n",
       "\t  0.81970330 & b           & 1           & 0          \\\\\n",
       "\t -0.79491813 & b           & 1           & 0          \\\\\n",
       "\t  0.15997967 & b           & 1           & 0          \\\\\n",
       "\t  1.85665133 & b           & 1           & 0          \\\\\n",
       "\t  1.79281115 & b           & 1           & 0          \\\\\n",
       "\t  1.59885741 & b           & 1           & 0          \\\\\n",
       "\t -0.80518448 & b           & 1           & 0          \\\\\n",
       "\t  1.74835661 & b           & 1           & 0          \\\\\n",
       "\t  2.06647758 & b           & 1           & 0          \\\\\n",
       "\t  2.13948629 & b           & 1           & 0          \\\\\n",
       "\t  2.37452116 & b           & 1           & 0          \\\\\n",
       "\t  1.90445069 & b           & 1           & 0          \\\\\n",
       "\t -0.74199652 & c           & 0           & 1          \\\\\n",
       "\t -0.64953381 & c           & 0           & 1          \\\\\n",
       "\t  0.49907252 & c           & 0           & 1          \\\\\n",
       "\t  1.75670897 & c           & 0           & 1          \\\\\n",
       "\t  0.67682439 & c           & 0           & 1          \\\\\n",
       "\t  2.28548841 & c           & 0           & 1          \\\\\n",
       "\t  0.22978489 & c           & 0           & 1          \\\\\n",
       "\t  0.74287109 & c           & 0           & 1          \\\\\n",
       "\t  0.97999743 & c           & 0           & 1          \\\\\n",
       "\t -0.21285284 & c           & 0           & 1          \\\\\n",
       "\t  2.27330165 & c           & 0           & 1          \\\\\n",
       "\t  1.34576758 & c           & 0           & 1          \\\\\n",
       "\t -1.78778507 & c           & 0           & 1          \\\\\n",
       "\t  0.37547863 & c           & 0           & 1          \\\\\n",
       "\t  0.71141747 & c           & 0           & 1          \\\\\n",
       "\t  0.68241756 & c           & 0           & 1          \\\\\n",
       "\t  0.72096885 & c           & 0           & 1          \\\\\n",
       "\t  0.77019841 & c           & 0           & 1          \\\\\n",
       "\t  0.77680611 & c           & 0           & 1          \\\\\n",
       "\t -0.45616270 & c           & 0           & 1          \\\\\n",
       "\\end{tabular}\n"
      ],
      "text/markdown": [
       "\n",
       "value | group | group_b | group_c | \n",
       "|---|---|---|---|---|---|---|---|---|---|---|---|---|---|---|---|---|---|---|---|---|---|---|---|---|---|---|---|---|---|---|---|---|---|---|---|---|---|---|---|---|---|---|---|---|---|---|---|---|---|---|---|---|---|---|---|---|---|---|---|\n",
       "| -0.79837608 | a           | 0           | 0           | \n",
       "| -2.10980476 | a           | 0           | 0           | \n",
       "| -1.16688190 | a           | 0           | 0           | \n",
       "|  0.83424569 | a           | 0           | 0           | \n",
       "|  0.22914871 | a           | 0           | 0           | \n",
       "|  0.49672345 | a           | 0           | 0           | \n",
       "|  0.48576442 | a           | 0           | 0           | \n",
       "| -0.76534301 | a           | 0           | 0           | \n",
       "|  0.37214721 | a           | 0           | 0           | \n",
       "| -0.44297033 | a           | 0           | 0           | \n",
       "| -1.56068580 | a           | 0           | 0           | \n",
       "| -0.49685546 | a           | 0           | 0           | \n",
       "| -0.86609766 | a           | 0           | 0           | \n",
       "| -0.62627788 | a           | 0           | 0           | \n",
       "|  0.93813831 | a           | 0           | 0           | \n",
       "| -0.75546585 | a           | 0           | 0           | \n",
       "|  0.34198586 | a           | 0           | 0           | \n",
       "| -0.49379340 | a           | 0           | 0           | \n",
       "| -1.39684469 | a           | 0           | 0           | \n",
       "| -0.11642183 | a           | 0           | 0           | \n",
       "|  1.00168951 | b           | 1           | 0           | \n",
       "|  0.07937425 | b           | 1           | 0           | \n",
       "|  2.04035214 | b           | 1           | 0           | \n",
       "|  0.26562288 | b           | 1           | 0           | \n",
       "|  2.57094201 | b           | 1           | 0           | \n",
       "|  1.95303508 | b           | 1           | 0           | \n",
       "|  0.53978271 | b           | 1           | 0           | \n",
       "|  0.67015241 | b           | 1           | 0           | \n",
       "|  0.81970330 | b           | 1           | 0           | \n",
       "| -0.79491813 | b           | 1           | 0           | \n",
       "|  0.15997967 | b           | 1           | 0           | \n",
       "|  1.85665133 | b           | 1           | 0           | \n",
       "|  1.79281115 | b           | 1           | 0           | \n",
       "|  1.59885741 | b           | 1           | 0           | \n",
       "| -0.80518448 | b           | 1           | 0           | \n",
       "|  1.74835661 | b           | 1           | 0           | \n",
       "|  2.06647758 | b           | 1           | 0           | \n",
       "|  2.13948629 | b           | 1           | 0           | \n",
       "|  2.37452116 | b           | 1           | 0           | \n",
       "|  1.90445069 | b           | 1           | 0           | \n",
       "| -0.74199652 | c           | 0           | 1           | \n",
       "| -0.64953381 | c           | 0           | 1           | \n",
       "|  0.49907252 | c           | 0           | 1           | \n",
       "|  1.75670897 | c           | 0           | 1           | \n",
       "|  0.67682439 | c           | 0           | 1           | \n",
       "|  2.28548841 | c           | 0           | 1           | \n",
       "|  0.22978489 | c           | 0           | 1           | \n",
       "|  0.74287109 | c           | 0           | 1           | \n",
       "|  0.97999743 | c           | 0           | 1           | \n",
       "| -0.21285284 | c           | 0           | 1           | \n",
       "|  2.27330165 | c           | 0           | 1           | \n",
       "|  1.34576758 | c           | 0           | 1           | \n",
       "| -1.78778507 | c           | 0           | 1           | \n",
       "|  0.37547863 | c           | 0           | 1           | \n",
       "|  0.71141747 | c           | 0           | 1           | \n",
       "|  0.68241756 | c           | 0           | 1           | \n",
       "|  0.72096885 | c           | 0           | 1           | \n",
       "|  0.77019841 | c           | 0           | 1           | \n",
       "|  0.77680611 | c           | 0           | 1           | \n",
       "| -0.45616270 | c           | 0           | 1           | \n",
       "\n",
       "\n"
      ],
      "text/plain": [
       "   value       group group_b group_c\n",
       "1  -0.79837608 a     0       0      \n",
       "2  -2.10980476 a     0       0      \n",
       "3  -1.16688190 a     0       0      \n",
       "4   0.83424569 a     0       0      \n",
       "5   0.22914871 a     0       0      \n",
       "6   0.49672345 a     0       0      \n",
       "7   0.48576442 a     0       0      \n",
       "8  -0.76534301 a     0       0      \n",
       "9   0.37214721 a     0       0      \n",
       "10 -0.44297033 a     0       0      \n",
       "11 -1.56068580 a     0       0      \n",
       "12 -0.49685546 a     0       0      \n",
       "13 -0.86609766 a     0       0      \n",
       "14 -0.62627788 a     0       0      \n",
       "15  0.93813831 a     0       0      \n",
       "16 -0.75546585 a     0       0      \n",
       "17  0.34198586 a     0       0      \n",
       "18 -0.49379340 a     0       0      \n",
       "19 -1.39684469 a     0       0      \n",
       "20 -0.11642183 a     0       0      \n",
       "21  1.00168951 b     1       0      \n",
       "22  0.07937425 b     1       0      \n",
       "23  2.04035214 b     1       0      \n",
       "24  0.26562288 b     1       0      \n",
       "25  2.57094201 b     1       0      \n",
       "26  1.95303508 b     1       0      \n",
       "27  0.53978271 b     1       0      \n",
       "28  0.67015241 b     1       0      \n",
       "29  0.81970330 b     1       0      \n",
       "30 -0.79491813 b     1       0      \n",
       "31  0.15997967 b     1       0      \n",
       "32  1.85665133 b     1       0      \n",
       "33  1.79281115 b     1       0      \n",
       "34  1.59885741 b     1       0      \n",
       "35 -0.80518448 b     1       0      \n",
       "36  1.74835661 b     1       0      \n",
       "37  2.06647758 b     1       0      \n",
       "38  2.13948629 b     1       0      \n",
       "39  2.37452116 b     1       0      \n",
       "40  1.90445069 b     1       0      \n",
       "41 -0.74199652 c     0       1      \n",
       "42 -0.64953381 c     0       1      \n",
       "43  0.49907252 c     0       1      \n",
       "44  1.75670897 c     0       1      \n",
       "45  0.67682439 c     0       1      \n",
       "46  2.28548841 c     0       1      \n",
       "47  0.22978489 c     0       1      \n",
       "48  0.74287109 c     0       1      \n",
       "49  0.97999743 c     0       1      \n",
       "50 -0.21285284 c     0       1      \n",
       "51  2.27330165 c     0       1      \n",
       "52  1.34576758 c     0       1      \n",
       "53 -1.78778507 c     0       1      \n",
       "54  0.37547863 c     0       1      \n",
       "55  0.71141747 c     0       1      \n",
       "56  0.68241756 c     0       1      \n",
       "57  0.72096885 c     0       1      \n",
       "58  0.77019841 c     0       1      \n",
       "59  0.77680611 c     0       1      \n",
       "60 -0.45616270 c     0       1      "
      ]
     },
     "metadata": {},
     "output_type": "display_data"
    }
   ],
   "source": [
    "#Generar datos ficticios\n",
    "\n",
    "N = 20  # Number of samples \n",
    "D = data.frame(\n",
    "  value = c(rnorm(N, 0), rnorm(N, 1), rnorm(N, 0.5)),\n",
    "  group = rep(c('a', 'b', 'c'), each = N),\n",
    "  \n",
    "  # Explicitly add indicator/dummy variables\n",
    "  # Could also be done using model.matrix(~D$group)\n",
    "  #group_a = rep(c(1, 0, 0), each=N),  # This is the intercept. No need to code\n",
    "  group_b = rep(c(0, 1, 0), each = N),\n",
    "  group_c = rep(c(0, 0, 1), each = N)\n",
    ")  # N of each level\n",
    "\n",
    "D"
   ]
  },
  {
   "cell_type": "code",
   "execution_count": 96,
   "metadata": {},
   "outputs": [
    {
     "data": {
      "text/html": [
       "<table>\n",
       "<thead><tr><th></th><th scope=col>Sum Sq</th><th scope=col>Df</th><th scope=col>F value</th><th scope=col>Pr(&gt;F)</th></tr></thead>\n",
       "<tbody>\n",
       "\t<tr><th scope=row>group</th><td>25.69550    </td><td> 2          </td><td>14.11414    </td><td>1.049053e-05</td></tr>\n",
       "\t<tr><th scope=row>Residuals</th><td>51.88568    </td><td>57          </td><td>      NA    </td><td>          NA</td></tr>\n",
       "</tbody>\n",
       "</table>\n"
      ],
      "text/latex": [
       "\\begin{tabular}{r|llll}\n",
       "  & Sum Sq & Df & F value & Pr(>F)\\\\\n",
       "\\hline\n",
       "\tgroup & 25.69550     &  2           & 14.11414     & 1.049053e-05\\\\\n",
       "\tResiduals & 51.88568     & 57           &       NA     &           NA\\\\\n",
       "\\end{tabular}\n"
      ],
      "text/markdown": [
       "\n",
       "| <!--/--> | Sum Sq | Df | F value | Pr(>F) | \n",
       "|---|---|\n",
       "| group | 25.69550     |  2           | 14.11414     | 1.049053e-05 | \n",
       "| Residuals | 51.88568     | 57           |       NA     |           NA | \n",
       "\n",
       "\n"
      ],
      "text/plain": [
       "          Sum Sq   Df F value  Pr(>F)      \n",
       "group     25.69550  2 14.11414 1.049053e-05\n",
       "Residuals 51.88568 57       NA           NA"
      ]
     },
     "metadata": {},
     "output_type": "display_data"
    },
    {
     "data": {
      "text/plain": [
       "\n",
       "Call:\n",
       "lm(formula = value ~ group_b + group_c, data = D)\n",
       "\n",
       "Residuals:\n",
       "    Min      1Q  Median      3Q     Max \n",
       "-2.3367 -0.5615  0.1307  0.7411  1.7366 \n",
       "\n",
       "Coefficients:\n",
       "            Estimate Std. Error t value Pr(>|t|)    \n",
       "(Intercept)  -0.3949     0.2133  -1.851  0.06936 .  \n",
       "group_b       1.5940     0.3017   5.283 2.07e-06 ***\n",
       "group_c       0.9438     0.3017   3.128  0.00277 ** \n",
       "---\n",
       "Signif. codes:  0 '***' 0.001 '**' 0.01 '*' 0.05 '.' 0.1 ' ' 1\n",
       "\n",
       "Residual standard error: 0.9541 on 57 degrees of freedom\n",
       "Multiple R-squared:  0.3312,\tAdjusted R-squared:  0.3077 \n",
       "F-statistic: 14.11 on 2 and 57 DF,  p-value: 1.049e-05\n"
      ]
     },
     "metadata": {},
     "output_type": "display_data"
    }
   ],
   "source": [
    "Anova(aov(value ~ group, D))\n",
    "\n",
    "summary(lm(value ~ group_b + group_c, data = D))"
   ]
  },
  {
   "cell_type": "code",
   "execution_count": 97,
   "metadata": {},
   "outputs": [
    {
     "data": {
      "text/plain": [
       "\n",
       "\tKruskal-Wallis rank sum test\n",
       "\n",
       "data:  value by group\n",
       "Kruskal-Wallis chi-squared = 18.62, df = 2, p-value = 9.051e-05\n"
      ]
     },
     "metadata": {},
     "output_type": "display_data"
    },
    {
     "data": {
      "text/plain": [
       "\n",
       "Call:\n",
       "lm(formula = rank(value) ~ 1 + group_b + group_c, data = D)\n",
       "\n",
       "Residuals:\n",
       "   Min     1Q Median     3Q    Max \n",
       "-34.00 -10.05   2.25  11.01  25.45 \n",
       "\n",
       "Coefficients:\n",
       "            Estimate Std. Error t value Pr(>|t|)    \n",
       "(Intercept)   17.550      3.287   5.339 1.69e-06 ***\n",
       "group_b       23.450      4.648   5.045 4.93e-06 ***\n",
       "group_c       15.400      4.648   3.313  0.00161 ** \n",
       "---\n",
       "Signif. codes:  0 '***' 0.001 '**' 0.01 '*' 0.05 '.' 0.1 ' ' 1\n",
       "\n",
       "Residual standard error: 14.7 on 57 degrees of freedom\n",
       "Multiple R-squared:  0.3156,\tAdjusted R-squared:  0.2916 \n",
       "F-statistic: 13.14 on 2 and 57 DF,  p-value: 2.025e-05\n"
      ]
     },
     "metadata": {},
     "output_type": "display_data"
    },
    {
     "data": {
      "text/html": [
       "<table>\n",
       "<thead><tr><th></th><th scope=col>Sum Sq</th><th scope=col>Df</th><th scope=col>F value</th><th scope=col>Pr(&gt;F)</th></tr></thead>\n",
       "<tbody>\n",
       "\t<tr><th scope=row>group</th><td> 5679.1     </td><td> 2          </td><td>13.1419     </td><td>2.025152e-05</td></tr>\n",
       "\t<tr><th scope=row>Residuals</th><td>12315.9     </td><td>57          </td><td>     NA     </td><td>          NA</td></tr>\n",
       "</tbody>\n",
       "</table>\n"
      ],
      "text/latex": [
       "\\begin{tabular}{r|llll}\n",
       "  & Sum Sq & Df & F value & Pr(>F)\\\\\n",
       "\\hline\n",
       "\tgroup &  5679.1      &  2           & 13.1419      & 2.025152e-05\\\\\n",
       "\tResiduals & 12315.9      & 57           &      NA      &           NA\\\\\n",
       "\\end{tabular}\n"
      ],
      "text/markdown": [
       "\n",
       "| <!--/--> | Sum Sq | Df | F value | Pr(>F) | \n",
       "|---|---|\n",
       "| group |  5679.1      |  2           | 13.1419      | 2.025152e-05 | \n",
       "| Residuals | 12315.9      | 57           |      NA      |           NA | \n",
       "\n",
       "\n"
      ],
      "text/plain": [
       "          Sum Sq  Df F value Pr(>F)      \n",
       "group      5679.1  2 13.1419 2.025152e-05\n",
       "Residuals 12315.9 57      NA           NA"
      ]
     },
     "metadata": {},
     "output_type": "display_data"
    }
   ],
   "source": [
    "kruskal.test(value ~ group, D)  # Built-in\n",
    "summary(lm(rank(value) ~ 1 + group_b + group_c, D))  # As linear model\n",
    "Anova(aov(rank(value) ~ group, D))  # The same model, using a dedicated ANOVA function. It just wraps lm."
   ]
  },
  {
   "cell_type": "markdown",
   "metadata": {},
   "source": [
    "Todas éstas aproximaciones son lo suficientemente buenas para $n>12$\n",
    "\n",
    "---\n",
    "---\n",
    "---\n",
    "---\n",
    "\n",
    "Las interacciones entre dos variables se pueden modelar con una multiplicación entre las variables indicadoras, lo que convierte al ANOVA de una vía en un ANOVA de dos (más) vias.\n",
    "\n",
    "### ANOVA de dos vías\n",
    "\n",
    "$$\n",
    "y = \\beta_0 + \\beta_1 X_1 + \\beta_2 X_2 + \\beta_3 X_1 X_2 \\qquad \\mathcal{H}_0: \\beta_3 = 0\n",
    "$$\n",
    "\n",
    "![twoway_anova](https://lindeloev.github.io/tests-as-linear/index_files/figure-html/unnamed-chunk-48-1.png)"
   ]
  },
  {
   "cell_type": "code",
   "execution_count": 98,
   "metadata": {},
   "outputs": [],
   "source": [
    "# Crossing factor\n",
    "D$mood <- c('happy', 'sad')\n",
    "\n",
    "# Dummy coding\n",
    "D$mood_happy <- ifelse(D$mood == 'happy', 1, 0)"
   ]
  },
  {
   "cell_type": "code",
   "execution_count": 99,
   "metadata": {},
   "outputs": [
    {
     "data": {
      "text/html": [
       "<table>\n",
       "<thead><tr><th scope=col>value</th><th scope=col>group</th><th scope=col>group_b</th><th scope=col>group_c</th><th scope=col>mood</th><th scope=col>mood_happy</th></tr></thead>\n",
       "<tbody>\n",
       "\t<tr><td>-0.7983761</td><td>a         </td><td>0         </td><td>0         </td><td>happy     </td><td>1         </td></tr>\n",
       "\t<tr><td>-2.1098048</td><td>a         </td><td>0         </td><td>0         </td><td>sad       </td><td>0         </td></tr>\n",
       "\t<tr><td>-1.1668819</td><td>a         </td><td>0         </td><td>0         </td><td>happy     </td><td>1         </td></tr>\n",
       "\t<tr><td> 0.8342457</td><td>a         </td><td>0         </td><td>0         </td><td>sad       </td><td>0         </td></tr>\n",
       "\t<tr><td> 0.2291487</td><td>a         </td><td>0         </td><td>0         </td><td>happy     </td><td>1         </td></tr>\n",
       "\t<tr><td> 0.4967234</td><td>a         </td><td>0         </td><td>0         </td><td>sad       </td><td>0         </td></tr>\n",
       "</tbody>\n",
       "</table>\n"
      ],
      "text/latex": [
       "\\begin{tabular}{r|llllll}\n",
       " value & group & group\\_b & group\\_c & mood & mood\\_happy\\\\\n",
       "\\hline\n",
       "\t -0.7983761 & a          & 0          & 0          & happy      & 1         \\\\\n",
       "\t -2.1098048 & a          & 0          & 0          & sad        & 0         \\\\\n",
       "\t -1.1668819 & a          & 0          & 0          & happy      & 1         \\\\\n",
       "\t  0.8342457 & a          & 0          & 0          & sad        & 0         \\\\\n",
       "\t  0.2291487 & a          & 0          & 0          & happy      & 1         \\\\\n",
       "\t  0.4967234 & a          & 0          & 0          & sad        & 0         \\\\\n",
       "\\end{tabular}\n"
      ],
      "text/markdown": [
       "\n",
       "value | group | group_b | group_c | mood | mood_happy | \n",
       "|---|---|---|---|---|---|\n",
       "| -0.7983761 | a          | 0          | 0          | happy      | 1          | \n",
       "| -2.1098048 | a          | 0          | 0          | sad        | 0          | \n",
       "| -1.1668819 | a          | 0          | 0          | happy      | 1          | \n",
       "|  0.8342457 | a          | 0          | 0          | sad        | 0          | \n",
       "|  0.2291487 | a          | 0          | 0          | happy      | 1          | \n",
       "|  0.4967234 | a          | 0          | 0          | sad        | 0          | \n",
       "\n",
       "\n"
      ],
      "text/plain": [
       "  value      group group_b group_c mood  mood_happy\n",
       "1 -0.7983761 a     0       0       happy 1         \n",
       "2 -2.1098048 a     0       0       sad   0         \n",
       "3 -1.1668819 a     0       0       happy 1         \n",
       "4  0.8342457 a     0       0       sad   0         \n",
       "5  0.2291487 a     0       0       happy 1         \n",
       "6  0.4967234 a     0       0       sad   0         "
      ]
     },
     "metadata": {},
     "output_type": "display_data"
    }
   ],
   "source": [
    "head(D)"
   ]
  },
  {
   "cell_type": "code",
   "execution_count": 104,
   "metadata": {},
   "outputs": [
    {
     "data": {
      "text/html": [
       "<table>\n",
       "<thead><tr><th></th><th scope=col>Sum Sq</th><th scope=col>Df</th><th scope=col>F value</th><th scope=col>Pr(&gt;F)</th></tr></thead>\n",
       "<tbody>\n",
       "\t<tr><th scope=row>mood</th><td> 0.0001934  </td><td> 1          </td><td>2.027877e-04</td><td>9.886907e-01</td></tr>\n",
       "\t<tr><th scope=row>group</th><td>25.6954959  </td><td> 2          </td><td>1.347138e+01</td><td>1.794009e-05</td></tr>\n",
       "\t<tr><th scope=row>mood:group</th><td> 0.3853185  </td><td> 2          </td><td>2.020110e-01</td><td>8.177006e-01</td></tr>\n",
       "\t<tr><th scope=row>Residuals</th><td>51.5001645  </td><td>54          </td><td>          NA</td><td>          NA</td></tr>\n",
       "</tbody>\n",
       "</table>\n"
      ],
      "text/latex": [
       "\\begin{tabular}{r|llll}\n",
       "  & Sum Sq & Df & F value & Pr(>F)\\\\\n",
       "\\hline\n",
       "\tmood &  0.0001934   &  1           & 2.027877e-04 & 9.886907e-01\\\\\n",
       "\tgroup & 25.6954959   &  2           & 1.347138e+01 & 1.794009e-05\\\\\n",
       "\tmood:group &  0.3853185   &  2           & 2.020110e-01 & 8.177006e-01\\\\\n",
       "\tResiduals & 51.5001645   & 54           &           NA &           NA\\\\\n",
       "\\end{tabular}\n"
      ],
      "text/markdown": [
       "\n",
       "| <!--/--> | Sum Sq | Df | F value | Pr(>F) | \n",
       "|---|---|---|---|\n",
       "| mood |  0.0001934   |  1           | 2.027877e-04 | 9.886907e-01 | \n",
       "| group | 25.6954959   |  2           | 1.347138e+01 | 1.794009e-05 | \n",
       "| mood:group |  0.3853185   |  2           | 2.020110e-01 | 8.177006e-01 | \n",
       "| Residuals | 51.5001645   | 54           |           NA |           NA | \n",
       "\n",
       "\n"
      ],
      "text/plain": [
       "           Sum Sq     Df F value      Pr(>F)      \n",
       "mood        0.0001934  1 2.027877e-04 9.886907e-01\n",
       "group      25.6954959  2 1.347138e+01 1.794009e-05\n",
       "mood:group  0.3853185  2 2.020110e-01 8.177006e-01\n",
       "Residuals  51.5001645 54           NA           NA"
      ]
     },
     "metadata": {},
     "output_type": "display_data"
    },
    {
     "data": {
      "text/html": [
       "<table>\n",
       "<thead><tr><th scope=col>Res.Df</th><th scope=col>RSS</th><th scope=col>Df</th><th scope=col>Sum of Sq</th><th scope=col>F</th><th scope=col>Pr(&gt;F)</th></tr></thead>\n",
       "<tbody>\n",
       "\t<tr><td>56       </td><td>51.88548 </td><td>NA       </td><td>       NA</td><td>      NA </td><td>       NA</td></tr>\n",
       "\t<tr><td>54       </td><td>51.50016 </td><td> 2       </td><td>0.3853185</td><td>0.202011 </td><td>0.8177006</td></tr>\n",
       "</tbody>\n",
       "</table>\n"
      ],
      "text/latex": [
       "\\begin{tabular}{r|llllll}\n",
       " Res.Df & RSS & Df & Sum of Sq & F & Pr(>F)\\\\\n",
       "\\hline\n",
       "\t 56        & 51.88548  & NA        &        NA &       NA  &        NA\\\\\n",
       "\t 54        & 51.50016  &  2        & 0.3853185 & 0.202011  & 0.8177006\\\\\n",
       "\\end{tabular}\n"
      ],
      "text/markdown": [
       "\n",
       "Res.Df | RSS | Df | Sum of Sq | F | Pr(>F) | \n",
       "|---|---|\n",
       "| 56        | 51.88548  | NA        |        NA |       NA  |        NA | \n",
       "| 54        | 51.50016  |  2        | 0.3853185 | 0.202011  | 0.8177006 | \n",
       "\n",
       "\n"
      ],
      "text/plain": [
       "  Res.Df RSS      Df Sum of Sq F        Pr(>F)   \n",
       "1 56     51.88548 NA        NA       NA        NA\n",
       "2 54     51.50016  2 0.3853185 0.202011 0.8177006"
      ]
     },
     "metadata": {},
     "output_type": "display_data"
    }
   ],
   "source": [
    "Anova(aov(value ~ mood + group + mood:group, D))\n",
    "# Testing the interaction terms as linear model.\n",
    "\n",
    "full <- lm(value~group_b + group_c + mood_happy + group_b:mood_happy + group_c:mood_happy, D)  # Full model\n",
    "null <- lm(value~group_b + group_c + mood_happy, D)  # Without interaction\n",
    "anova(null, full)  #same F, p, and Dfs"
   ]
  },
  {
   "cell_type": "code",
   "execution_count": 107,
   "metadata": {},
   "outputs": [
    {
     "data": {
      "text/plain": [
       "\n",
       "Call:\n",
       "lm(formula = value ~ group_b + group_c + mood_happy + group_b:mood_happy + \n",
       "    group_c:mood_happy, data = D)\n",
       "\n",
       "Residuals:\n",
       "     Min       1Q   Median       3Q      Max \n",
       "-2.22162 -0.57203  0.07203  0.71437  1.83946 \n",
       "\n",
       "Coefficients:\n",
       "                    Estimate Std. Error t value Pr(>|t|)    \n",
       "(Intercept)        -0.447596   0.308821  -1.449 0.153017    \n",
       "group_b             1.589703   0.436739   3.640 0.000611 ***\n",
       "group_c             1.111634   0.436739   2.545 0.013807 *  \n",
       "mood_happy          0.105426   0.436739   0.241 0.810164    \n",
       "group_b:mood_happy  0.008574   0.617643   0.014 0.988975    \n",
       "group_c:mood_happy -0.335625   0.617643  -0.543 0.589093    \n",
       "---\n",
       "Signif. codes:  0 '***' 0.001 '**' 0.01 '*' 0.05 '.' 0.1 ' ' 1\n",
       "\n",
       "Residual standard error: 0.9766 on 54 degrees of freedom\n",
       "Multiple R-squared:  0.3362,\tAdjusted R-squared:  0.2747 \n",
       "F-statistic: 5.469 on 5 and 54 DF,  p-value: 0.000383\n"
      ]
     },
     "metadata": {},
     "output_type": "display_data"
    }
   ],
   "source": [
    "summary(full)"
   ]
  },
  {
   "cell_type": "markdown",
   "metadata": {},
   "source": [
    "* ¿Cuál es la media del grupo **a** tristes y cual la media de los felices?\n",
    "* La interacción fue significativa?"
   ]
  },
  {
   "cell_type": "markdown",
   "metadata": {},
   "source": [
    "### Proporciones: Chi-squared y Tablas de contingencia\n",
    "\n",
    "TODO: Para qué se usa las pruebas:\n",
    "* Goodness of fit\n",
    "* Contingency tables\n",
    "\n",
    "El modelo lineal es aproximar $log(y) = \\beta_0 + \\beta_i x_i$ dónde $x_i$ es una variable indicadora. "
   ]
  },
  {
   "cell_type": "code",
   "execution_count": 114,
   "metadata": {},
   "outputs": [
    {
     "data": {
      "text/html": [
       "<table>\n",
       "<thead><tr><th scope=col>mood</th><th scope=col>FinishedExam</th><th scope=col>mood_happy</th><th scope=col>mood_sad</th></tr></thead>\n",
       "<tbody>\n",
       "\t<tr><td>happy</td><td>90   </td><td>1    </td><td>0    </td></tr>\n",
       "\t<tr><td>sad  </td><td>60   </td><td>0    </td><td>1    </td></tr>\n",
       "\t<tr><td>meh  </td><td>70   </td><td>0    </td><td>0    </td></tr>\n",
       "</tbody>\n",
       "</table>\n"
      ],
      "text/latex": [
       "\\begin{tabular}{r|llll}\n",
       " mood & FinishedExam & mood\\_happy & mood\\_sad\\\\\n",
       "\\hline\n",
       "\t happy & 90    & 1     & 0    \\\\\n",
       "\t sad   & 60    & 0     & 1    \\\\\n",
       "\t meh   & 70    & 0     & 0    \\\\\n",
       "\\end{tabular}\n"
      ],
      "text/markdown": [
       "\n",
       "mood | FinishedExam | mood_happy | mood_sad | \n",
       "|---|---|---|\n",
       "| happy | 90    | 1     | 0     | \n",
       "| sad   | 60    | 0     | 1     | \n",
       "| meh   | 70    | 0     | 0     | \n",
       "\n",
       "\n"
      ],
      "text/plain": [
       "  mood  FinishedExam mood_happy mood_sad\n",
       "1 happy 90           1          0       \n",
       "2 sad   60           0          1       \n",
       "3 meh   70           0          0       "
      ]
     },
     "metadata": {},
     "output_type": "display_data"
    }
   ],
   "source": [
    "D = data.frame(mood = c('happy', 'sad', 'meh'),\n",
    "               FinishedExam = c(90, 60, 70))\n",
    "\n",
    "# Dummy coding for the linear model\n",
    "D$mood_happy = ifelse(D$mood == 'happy', 1, 0)\n",
    "D$mood_sad = ifelse(D$mood == 'sad', 1, 0)\n",
    "\n",
    "D"
   ]
  },
  {
   "cell_type": "code",
   "execution_count": 156,
   "metadata": {},
   "outputs": [
    {
     "data": {
      "text/plain": [
       "\n",
       "\tChi-squared test for given probabilities\n",
       "\n",
       "data:  D$FinishedExam\n",
       "X-squared = 6.3636, df = 2, p-value = 0.04151\n"
      ]
     },
     "metadata": {},
     "output_type": "display_data"
    },
    {
     "data": {
      "text/html": [
       "<table>\n",
       "<thead><tr><th scope=col>Resid. Df</th><th scope=col>Resid. Dev</th><th scope=col>Df</th><th scope=col>Deviance</th><th scope=col>Pr(&gt;Chi)</th></tr></thead>\n",
       "<tbody>\n",
       "\t<tr><td>2            </td><td> 6.269709e+00</td><td>NA           </td><td>      NA     </td><td>        NA   </td></tr>\n",
       "\t<tr><td>0            </td><td>-1.287859e-14</td><td> 2           </td><td>6.269709     </td><td>0.04350609   </td></tr>\n",
       "</tbody>\n",
       "</table>\n"
      ],
      "text/latex": [
       "\\begin{tabular}{r|lllll}\n",
       " Resid. Df & Resid. Dev & Df & Deviance & Pr(>Chi)\\\\\n",
       "\\hline\n",
       "\t 2             &  6.269709e+00 & NA            &       NA      &         NA   \\\\\n",
       "\t 0             & -1.287859e-14 &  2            & 6.269709      & 0.04350609   \\\\\n",
       "\\end{tabular}\n"
      ],
      "text/markdown": [
       "\n",
       "Resid. Df | Resid. Dev | Df | Deviance | Pr(>Chi) | \n",
       "|---|---|\n",
       "| 2             |  6.269709e+00 | NA            |       NA      |         NA    | \n",
       "| 0             | -1.287859e-14 |  2            | 6.269709      | 0.04350609    | \n",
       "\n",
       "\n"
      ],
      "text/plain": [
       "  Resid. Df Resid. Dev    Df Deviance Pr(>Chi)  \n",
       "1 2          6.269709e+00 NA       NA         NA\n",
       "2 0         -1.287859e-14  2 6.269709 0.04350609"
      ]
     },
     "metadata": {},
     "output_type": "display_data"
    },
    {
     "data": {
      "text/plain": [
       "\n",
       "Call:  glm(formula = FinishedExam ~ mood, family = poisson(), data = D)\n",
       "\n",
       "Coefficients:\n",
       "(Intercept)      moodmeh      moodsad  \n",
       "     4.4998      -0.2513      -0.4055  \n",
       "\n",
       "Degrees of Freedom: 2 Total (i.e. Null);  0 Residual\n",
       "Null Deviance:\t    6.27 \n",
       "Residual Deviance: -2.22e-15 \tAIC: 24.36"
      ]
     },
     "metadata": {},
     "output_type": "display_data"
    }
   ],
   "source": [
    "chi <- chisq.test(D$FinishedExam)\n",
    "chi\n",
    "\n",
    "# As log-linear model, comparing to an intercept-only model\n",
    "full = glm(FinishedExam ~  mood_happy + mood_sad, data = D, family = poisson())\n",
    "null = glm(FinishedExam ~ 1, data = D, family = poisson())\n",
    "\n",
    "anova(null, full, test = 'Chisq')\n",
    "\n",
    "glm(FinishedExam ~  mood, data = D, family = poisson())"
   ]
  },
  {
   "cell_type": "code",
   "execution_count": 157,
   "metadata": {},
   "outputs": [
    {
     "name": "stdout",
     "output_type": "stream",
     "text": [
      "[1] \"happy\" \"sad\"   \"meh\"  \n",
      "[1] 73.33333 73.33333 73.33333\n",
      "[1] 90 60 70\n"
     ]
    }
   ],
   "source": [
    "print(c('happy', 'sad', 'meh'))\n",
    "print(chi$expected)\n",
    "print(chi$observed)"
   ]
  },
  {
   "cell_type": "markdown",
   "metadata": {},
   "source": [
    "**TODO**: que significan los coeficientes de la regresión poisson? \n",
    "HINTS: --------------v"
   ]
  },
  {
   "cell_type": "code",
   "execution_count": 160,
   "metadata": {},
   "outputs": [
    {
     "data": {
      "text/html": [
       "4.49980967033027"
      ],
      "text/latex": [
       "4.49980967033027"
      ],
      "text/markdown": [
       "4.49980967033027"
      ],
      "text/plain": [
       "[1] 4.49981"
      ]
     },
     "metadata": {},
     "output_type": "display_data"
    }
   ],
   "source": [
    "log(90)  "
   ]
  },
  {
   "cell_type": "code",
   "execution_count": 162,
   "metadata": {},
   "outputs": [
    {
     "data": {
      "text/html": [
       "0.405465108108165"
      ],
      "text/latex": [
       "0.405465108108165"
      ],
      "text/markdown": [
       "0.405465108108165"
      ],
      "text/plain": [
       "[1] 0.4054651"
      ]
     },
     "metadata": {},
     "output_type": "display_data"
    }
   ],
   "source": [
    "log(90)-log(60)"
   ]
  },
  {
   "cell_type": "code",
   "execution_count": 188,
   "metadata": {},
   "outputs": [
    {
     "data": {
      "text/html": [
       "60.0000064864902"
      ],
      "text/latex": [
       "60.0000064864902"
      ],
      "text/markdown": [
       "60.0000064864902"
      ],
      "text/plain": [
       "[1] 60.00001"
      ]
     },
     "metadata": {},
     "output_type": "display_data"
    }
   ],
   "source": [
    "90*exp(-.405465)"
   ]
  },
  {
   "cell_type": "code",
   "execution_count": 189,
   "metadata": {},
   "outputs": [
    {
     "data": {
      "text/html": [
       "0.251314428280906"
      ],
      "text/latex": [
       "0.251314428280906"
      ],
      "text/markdown": [
       "0.251314428280906"
      ],
      "text/plain": [
       "[1] 0.2513144"
      ]
     },
     "metadata": {},
     "output_type": "display_data"
    }
   ],
   "source": [
    "log(90)- log(70)"
   ]
  },
  {
   "cell_type": "code",
   "execution_count": 190,
   "metadata": {},
   "outputs": [
    {
     "data": {
      "text/html": [
       "70.0000299796698"
      ],
      "text/latex": [
       "70.0000299796698"
      ],
      "text/markdown": [
       "70.0000299796698"
      ],
      "text/plain": [
       "[1] 70.00003"
      ]
     },
     "metadata": {},
     "output_type": "display_data"
    }
   ],
   "source": [
    "90*exp(-.251314)"
   ]
  },
  {
   "cell_type": "markdown",
   "metadata": {},
   "source": [
    "*Entonces:* ¿qué significa que la prueba sea significativa?"
   ]
  },
  {
   "cell_type": "code",
   "execution_count": 327,
   "metadata": {},
   "outputs": [
    {
     "data": {
      "text/html": [
       "<table>\n",
       "<thead><tr><th scope=col>mood</th><th scope=col>smoke</th><th scope=col>Freq</th></tr></thead>\n",
       "<tbody>\n",
       "\t<tr><td>happy</td><td>S    </td><td>140  </td></tr>\n",
       "\t<tr><td>happy</td><td>NS   </td><td> 90  </td></tr>\n",
       "\t<tr><td>happy</td><td>S    </td><td>128  </td></tr>\n",
       "\t<tr><td>happy</td><td>NS   </td><td> 80  </td></tr>\n",
       "\t<tr><td>sad  </td><td>NS   </td><td> 30  </td></tr>\n",
       "\t<tr><td>sad  </td><td>S    </td><td>140  </td></tr>\n",
       "\t<tr><td>sad  </td><td>NS   </td><td> 80  </td></tr>\n",
       "\t<tr><td>sad  </td><td>S    </td><td>135  </td></tr>\n",
       "</tbody>\n",
       "</table>\n"
      ],
      "text/latex": [
       "\\begin{tabular}{r|lll}\n",
       " mood & smoke & Freq\\\\\n",
       "\\hline\n",
       "\t happy & S     & 140  \\\\\n",
       "\t happy & NS    &  90  \\\\\n",
       "\t happy & S     & 128  \\\\\n",
       "\t happy & NS    &  80  \\\\\n",
       "\t sad   & NS    &  30  \\\\\n",
       "\t sad   & S     & 140  \\\\\n",
       "\t sad   & NS    &  80  \\\\\n",
       "\t sad   & S     & 135  \\\\\n",
       "\\end{tabular}\n"
      ],
      "text/markdown": [
       "\n",
       "mood | smoke | Freq | \n",
       "|---|---|---|---|---|---|---|---|\n",
       "| happy | S     | 140   | \n",
       "| happy | NS    |  90   | \n",
       "| happy | S     | 128   | \n",
       "| happy | NS    |  80   | \n",
       "| sad   | NS    |  30   | \n",
       "| sad   | S     | 140   | \n",
       "| sad   | NS    |  80   | \n",
       "| sad   | S     | 135   | \n",
       "\n",
       "\n"
      ],
      "text/plain": [
       "  mood  smoke Freq\n",
       "1 happy S     140 \n",
       "2 happy NS     90 \n",
       "3 happy S     128 \n",
       "4 happy NS     80 \n",
       "5 sad   NS     30 \n",
       "6 sad   S     140 \n",
       "7 sad   NS     80 \n",
       "8 sad   S     135 "
      ]
     },
     "metadata": {},
     "output_type": "display_data"
    }
   ],
   "source": [
    "D = data.frame(\n",
    "  mood = c('happy', 'happy', 'happy', 'happy','sad', 'sad', 'sad', 'sad'),\n",
    "  smoke = c('S', 'NS', 'S','NS', 'NS', 'S', 'NS','S'),\n",
    "  Freq = c(140, 90, 128, 80, 30, 140, 80, 135)\n",
    ")\n",
    "\n",
    "D"
   ]
  },
  {
   "cell_type": "code",
   "execution_count": 337,
   "metadata": {},
   "outputs": [
    {
     "data": {
      "text/html": [
       "<table>\n",
       "<thead><tr><th></th><th scope=col>happy</th><th scope=col>sad</th></tr></thead>\n",
       "<tbody>\n",
       "\t<tr><th scope=row>1</th><td>170</td><td>110</td></tr>\n",
       "\t<tr><th scope=row>2</th><td>268</td><td>275</td></tr>\n",
       "</tbody>\n",
       "</table>\n"
      ],
      "text/latex": [
       "\\begin{tabular}{r|ll}\n",
       "  & happy & sad\\\\\n",
       "\\hline\n",
       "\t1 & 170 & 110\\\\\n",
       "\t2 & 268 & 275\\\\\n",
       "\\end{tabular}\n"
      ],
      "text/markdown": [
       "\n",
       "| <!--/--> | happy | sad | \n",
       "|---|---|\n",
       "| 1 | 170 | 110 | \n",
       "| 2 | 268 | 275 | \n",
       "\n",
       "\n"
      ],
      "text/plain": [
       "  happy sad\n",
       "1 170   110\n",
       "2 268   275"
      ]
     },
     "metadata": {},
     "output_type": "display_data"
    }
   ],
   "source": [
    "D_table <- D %>% \n",
    "    group_by(mood,smoke) %>%\n",
    "    summarize(totalsmoke = sum(Freq, na.rm = TRUE)) %>%\n",
    "    spread(key = mood, value = totalsmoke)  %>%  # Mood to columns\n",
    "    dplyr::select(-smoke) %>%  # Remove sex column\n",
    "    as.matrix()\n",
    "\n",
    "\n",
    "D_table"
   ]
  },
  {
   "cell_type": "markdown",
   "metadata": {},
   "source": [
    "1 : No fumar\n",
    "2 : Si fuma"
   ]
  },
  {
   "cell_type": "code",
   "execution_count": 338,
   "metadata": {},
   "outputs": [
    {
     "data": {
      "text/html": [
       "<table>\n",
       "<thead><tr><th scope=col>mood</th><th scope=col>smoke</th><th scope=col>Freq</th><th scope=col>mood_happy</th><th scope=col>smk_yes</th></tr></thead>\n",
       "<tbody>\n",
       "\t<tr><td>happy</td><td>S    </td><td>140  </td><td>1    </td><td>1    </td></tr>\n",
       "\t<tr><td>happy</td><td>NS   </td><td> 90  </td><td>1    </td><td>0    </td></tr>\n",
       "\t<tr><td>happy</td><td>S    </td><td>128  </td><td>1    </td><td>1    </td></tr>\n",
       "\t<tr><td>happy</td><td>NS   </td><td> 80  </td><td>1    </td><td>0    </td></tr>\n",
       "\t<tr><td>sad  </td><td>NS   </td><td> 30  </td><td>0    </td><td>0    </td></tr>\n",
       "\t<tr><td>sad  </td><td>S    </td><td>140  </td><td>0    </td><td>1    </td></tr>\n",
       "\t<tr><td>sad  </td><td>NS   </td><td> 80  </td><td>0    </td><td>0    </td></tr>\n",
       "\t<tr><td>sad  </td><td>S    </td><td>135  </td><td>0    </td><td>1    </td></tr>\n",
       "</tbody>\n",
       "</table>\n"
      ],
      "text/latex": [
       "\\begin{tabular}{r|lllll}\n",
       " mood & smoke & Freq & mood\\_happy & smk\\_yes\\\\\n",
       "\\hline\n",
       "\t happy & S     & 140   & 1     & 1    \\\\\n",
       "\t happy & NS    &  90   & 1     & 0    \\\\\n",
       "\t happy & S     & 128   & 1     & 1    \\\\\n",
       "\t happy & NS    &  80   & 1     & 0    \\\\\n",
       "\t sad   & NS    &  30   & 0     & 0    \\\\\n",
       "\t sad   & S     & 140   & 0     & 1    \\\\\n",
       "\t sad   & NS    &  80   & 0     & 0    \\\\\n",
       "\t sad   & S     & 135   & 0     & 1    \\\\\n",
       "\\end{tabular}\n"
      ],
      "text/markdown": [
       "\n",
       "mood | smoke | Freq | mood_happy | smk_yes | \n",
       "|---|---|---|---|---|---|---|---|\n",
       "| happy | S     | 140   | 1     | 1     | \n",
       "| happy | NS    |  90   | 1     | 0     | \n",
       "| happy | S     | 128   | 1     | 1     | \n",
       "| happy | NS    |  80   | 1     | 0     | \n",
       "| sad   | NS    |  30   | 0     | 0     | \n",
       "| sad   | S     | 140   | 0     | 1     | \n",
       "| sad   | NS    |  80   | 0     | 0     | \n",
       "| sad   | S     | 135   | 0     | 1     | \n",
       "\n",
       "\n"
      ],
      "text/plain": [
       "  mood  smoke Freq mood_happy smk_yes\n",
       "1 happy S     140  1          1      \n",
       "2 happy NS     90  1          0      \n",
       "3 happy S     128  1          1      \n",
       "4 happy NS     80  1          0      \n",
       "5 sad   NS     30  0          0      \n",
       "6 sad   S     140  0          1      \n",
       "7 sad   NS     80  0          0      \n",
       "8 sad   S     135  0          1      "
      ]
     },
     "metadata": {},
     "output_type": "display_data"
    }
   ],
   "source": [
    "# Dummy coding of D for linear model (skipping mood==\"sad\" and gender==\"female\")\n",
    "# We could also use model.matrix(D$Freq~D$mood*D$sex)\n",
    "D$mood_happy = ifelse(D$mood == 'happy', 1, 0)\n",
    "D$smk_yes = ifelse(D$smoke == 'S', 1, 0)\n",
    "D"
   ]
  },
  {
   "cell_type": "code",
   "execution_count": 341,
   "metadata": {},
   "outputs": [
    {
     "data": {
      "text/plain": [
       "\n",
       "\tPearson's Chi-squared test with Yates' continuity correction\n",
       "\n",
       "data:  D_table\n",
       "X-squared = 9.1232, df = 1, p-value = 0.002524\n"
      ]
     },
     "metadata": {},
     "output_type": "display_data"
    },
    {
     "data": {
      "text/html": [
       "<table>\n",
       "<thead><tr><th scope=col>Resid. Df</th><th scope=col>Resid. Dev</th><th scope=col>Df</th><th scope=col>Deviance</th><th scope=col>Pr(&gt;Chi)</th></tr></thead>\n",
       "<tbody>\n",
       "\t<tr><td>5          </td><td>34.43193   </td><td>NA         </td><td>      NA   </td><td>         NA</td></tr>\n",
       "\t<tr><td>4          </td><td>24.79979   </td><td> 1         </td><td>9.632149   </td><td>0.001912008</td></tr>\n",
       "</tbody>\n",
       "</table>\n"
      ],
      "text/latex": [
       "\\begin{tabular}{r|lllll}\n",
       " Resid. Df & Resid. Dev & Df & Deviance & Pr(>Chi)\\\\\n",
       "\\hline\n",
       "\t 5           & 34.43193    & NA          &       NA    &          NA\\\\\n",
       "\t 4           & 24.79979    &  1          & 9.632149    & 0.001912008\\\\\n",
       "\\end{tabular}\n"
      ],
      "text/markdown": [
       "\n",
       "Resid. Df | Resid. Dev | Df | Deviance | Pr(>Chi) | \n",
       "|---|---|\n",
       "| 5           | 34.43193    | NA          |       NA    |          NA | \n",
       "| 4           | 24.79979    |  1          | 9.632149    | 0.001912008 | \n",
       "\n",
       "\n"
      ],
      "text/plain": [
       "  Resid. Df Resid. Dev Df Deviance Pr(>Chi)   \n",
       "1 5         34.43193   NA       NA          NA\n",
       "2 4         24.79979    1 9.632149 0.001912008"
      ]
     },
     "metadata": {},
     "output_type": "display_data"
    },
    {
     "data": {
      "text/html": [
       "<table>\n",
       "<thead><tr><th></th><th scope=col>Df</th><th scope=col>Deviance</th><th scope=col>Resid. Df</th><th scope=col>Resid. Dev</th><th scope=col>Pr(&gt;Chi)</th></tr></thead>\n",
       "<tbody>\n",
       "\t<tr><th scope=row>NULL</th><td>NA          </td><td>       NA   </td><td>7           </td><td>123.38467   </td><td>          NA</td></tr>\n",
       "\t<tr><th scope=row>mood</th><td> 1          </td><td> 3.415486   </td><td>6           </td><td>119.96919   </td><td>6.458740e-02</td></tr>\n",
       "\t<tr><th scope=row>smoke</th><td> 1          </td><td>85.537252   </td><td>5           </td><td> 34.43193   </td><td>2.273774e-20</td></tr>\n",
       "\t<tr><th scope=row>mood:smoke</th><td> 1          </td><td> 9.632149   </td><td>4           </td><td> 24.79979   </td><td>1.912008e-03</td></tr>\n",
       "</tbody>\n",
       "</table>\n"
      ],
      "text/latex": [
       "\\begin{tabular}{r|lllll}\n",
       "  & Df & Deviance & Resid. Df & Resid. Dev & Pr(>Chi)\\\\\n",
       "\\hline\n",
       "\tNULL & NA           &        NA    & 7            & 123.38467    &           NA\\\\\n",
       "\tmood &  1           &  3.415486    & 6            & 119.96919    & 6.458740e-02\\\\\n",
       "\tsmoke &  1           & 85.537252    & 5            &  34.43193    & 2.273774e-20\\\\\n",
       "\tmood:smoke &  1           &  9.632149    & 4            &  24.79979    & 1.912008e-03\\\\\n",
       "\\end{tabular}\n"
      ],
      "text/markdown": [
       "\n",
       "| <!--/--> | Df | Deviance | Resid. Df | Resid. Dev | Pr(>Chi) | \n",
       "|---|---|---|---|\n",
       "| NULL | NA           |        NA    | 7            | 123.38467    |           NA | \n",
       "| mood |  1           |  3.415486    | 6            | 119.96919    | 6.458740e-02 | \n",
       "| smoke |  1           | 85.537252    | 5            |  34.43193    | 2.273774e-20 | \n",
       "| mood:smoke |  1           |  9.632149    | 4            |  24.79979    | 1.912008e-03 | \n",
       "\n",
       "\n"
      ],
      "text/plain": [
       "           Df Deviance  Resid. Df Resid. Dev Pr(>Chi)    \n",
       "NULL       NA        NA 7         123.38467            NA\n",
       "mood        1  3.415486 6         119.96919  6.458740e-02\n",
       "smoke       1 85.537252 5          34.43193  2.273774e-20\n",
       "mood:smoke  1  9.632149 4          24.79979  1.912008e-03"
      ]
     },
     "metadata": {},
     "output_type": "display_data"
    },
    {
     "data": {
      "text/plain": [
       "Call:\n",
       "MASS::loglm(formula = Freq ~ mood + smoke, data = D)\n",
       "\n",
       "Statistics:\n",
       "                      X^2 df     P(> X^2)\n",
       "Likelihood Ratio 34.43193  5 1.953102e-06\n",
       "Pearson          29.92802  5 1.523758e-05"
      ]
     },
     "metadata": {},
     "output_type": "display_data"
    }
   ],
   "source": [
    "chisq.test(D_table)\n",
    "\n",
    "# Using glm to do a log-linear model, we get identical results when testing the interaction term:\n",
    "full = glm(Freq ~ 1 + mood_happy + smk_yes + mood_happy*smk_yes, data = D, family = poisson())\n",
    "null = glm(Freq ~ 1 + mood_happy + smk_yes, data = D, family = poisson())\n",
    "anova(null, full, test = 'Chisq')  \n",
    "\n",
    "# Note: let glm do the dummy coding for you\n",
    "full = glm(Freq ~ mood * smoke, family = poisson(), data = D)\n",
    "anova(full, test = 'Chisq')\n",
    "\n",
    "# Note: even simpler syntax using MASS:loglm (\"log-linear model\") \n",
    "MASS::loglm(Freq ~ mood + smoke, D)"
   ]
  },
  {
   "cell_type": "markdown",
   "metadata": {},
   "source": [
    "### Forma bonita:"
   ]
  },
  {
   "cell_type": "code",
   "execution_count": 343,
   "metadata": {},
   "outputs": [
    {
     "name": "stdout",
     "output_type": "stream",
     "text": [
      "\n",
      " \n",
      "   Cell Contents\n",
      "|-------------------------|\n",
      "|                       N |\n",
      "|              Expected N |\n",
      "| Chi-square contribution |\n",
      "|           N / Row Total |\n",
      "|           N / Col Total |\n",
      "|         N / Table Total |\n",
      "|-------------------------|\n",
      "\n",
      " \n",
      "Total Observations in Table:  823 \n",
      "\n",
      " \n",
      "             |  \n",
      "             |     happy |       sad | Row Total | \n",
      "-------------|-----------|-----------|-----------|\n",
      "           1 |       170 |       110 |       280 | \n",
      "             |   149.016 |   130.984 |           | \n",
      "             |     2.955 |     3.362 |           | \n",
      "             |     0.607 |     0.393 |     0.340 | \n",
      "             |     0.388 |     0.286 |           | \n",
      "             |     0.207 |     0.134 |           | \n",
      "-------------|-----------|-----------|-----------|\n",
      "           2 |       268 |       275 |       543 | \n",
      "             |   288.984 |   254.016 |           | \n",
      "             |     1.524 |     1.734 |           | \n",
      "             |     0.494 |     0.506 |     0.660 | \n",
      "             |     0.612 |     0.714 |           | \n",
      "             |     0.326 |     0.334 |           | \n",
      "-------------|-----------|-----------|-----------|\n",
      "Column Total |       438 |       385 |       823 | \n",
      "             |     0.532 |     0.468 |           | \n",
      "-------------|-----------|-----------|-----------|\n",
      "\n",
      " \n",
      "Statistics for All Table Factors\n",
      "\n",
      "\n",
      "Pearson's Chi-squared test \n",
      "------------------------------------------------------------\n",
      "Chi^2 =  9.573964     d.f. =  1     p =  0.001973561 \n",
      "\n",
      "Pearson's Chi-squared test with Yates' continuity correction \n",
      "------------------------------------------------------------\n",
      "Chi^2 =  9.123154     d.f. =  1     p =  0.002523945 \n",
      "\n",
      " \n"
     ]
    }
   ],
   "source": [
    "CrossTable(D_table, chisq = T ,expected = T ) "
   ]
  },
  {
   "cell_type": "markdown",
   "metadata": {},
   "source": [
    "**interpretar contribución a Chi-squared:** Si una celda dada difiere notablemente de la frecuencia esperada, entonces la contribución de esa celda al chi-cuadrado general es grande."
   ]
  },
  {
   "cell_type": "markdown",
   "metadata": {},
   "source": [
    "<H1><center> Sin darnos cuenta... </center></H1>\n",
    "<H2><center> Hemos visitado muchos test estadísticos </center></H2>\n",
    "<H3><center> Todos como casos específicos de un modelo lineal </center></H3>\n",
    "<H4><center> Así en vez de aprendernos formulas.... </center></H4>\n",
    "<H5><center> Tratamos de entender :) </center></H5>"
   ]
  },
  {
   "cell_type": "markdown",
   "metadata": {},
   "source": [
    "# Proyecto\n",
    "\n",
    "Realizar el análisis exploratorio (gráficas, análisis descriptivo, análisis estadístico (test enseñados y/u otros)) del siguiente dataset:\n",
    "https://www.kaggle.com/russellyates88/suicide-rates-overview-1985-to-2016\n",
    "\n",
    "* Las comparaciones hacerlas en relación a México"
   ]
  },
  {
   "cell_type": "code",
   "execution_count": null,
   "metadata": {},
   "outputs": [],
   "source": []
  }
 ],
 "metadata": {
  "kernelspec": {
   "display_name": "R",
   "language": "R",
   "name": "ir"
  },
  "language_info": {
   "codemirror_mode": "r",
   "file_extension": ".r",
   "mimetype": "text/x-r-source",
   "name": "R",
   "pygments_lexer": "r",
   "version": "3.4.3"
  }
 },
 "nbformat": 4,
 "nbformat_minor": 2
}
